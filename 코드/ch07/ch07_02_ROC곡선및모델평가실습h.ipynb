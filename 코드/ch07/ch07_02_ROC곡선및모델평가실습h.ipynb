{
 "cells": [
  {
   "cell_type": "markdown",
   "metadata": {},
   "source": [
    "# 기계학습"
   ]
  },
  {
   "cell_type": "markdown",
   "metadata": {},
   "source": [
    "### 담당교수 : 장원중"
   ]
  },
  {
   "cell_type": "code",
   "execution_count": 27,
   "metadata": {},
   "outputs": [],
   "source": [
    "# 그래프 한글이 깨질때 & 마이너스 부호 사용\n",
    "\n",
    "import sys, os\n",
    "from matplotlib import font_manager, rc \n",
    "import matplotlib.pyplot as plt\n",
    "\n",
    "# 한글 폰트 설정 : 윈도우 폰트를 사용하는 경우 \n",
    "font_name = font_manager.FontProperties(fname=\"c:/Windows/Fonts/malgun.ttf\").get_name()\n",
    "rc('font', family=font_name) \n",
    "\n",
    "# 운영체제별 한글 폰트 설정\n",
    "# if os.name == 'posix': # Mac 환경 폰트 설정\n",
    "#     rc('font', family='AppleGothic')\n",
    "# elif os.name == 'nt': # Windows 환경 폰트 설정\n",
    "#     rc('font', family='Malgun Gothic')\n",
    "\n",
    "plt.rc('axes', unicode_minus=False) # 마이너스 폰트 설정\n",
    "\n",
    "# 유니코드에서 음수 부호설정\n",
    "rc('axes', unicode_minus=False)\n",
    "\n",
    "# 부모 디렉터리의 파일을 가져올 수 있도록 설정\n",
    "sys.path.append(os.pardir)     \n",
    "\n",
    "# jupyter에서 matplotlib 그래프를 출력 영역에 표시  \n",
    "%matplotlib inline \n",
    "\n",
    "# 레티나 설정 - 폰트 주변이 흐릿하게 보이는 것을 방지해 글씨가 좀 더 선명하게 보임\n",
    "%config InlineBackend.figure_format = 'retina'"
   ]
  },
  {
   "cell_type": "code",
   "execution_count": 28,
   "metadata": {},
   "outputs": [
    {
     "data": {
      "text/plain": [
       "'Windows'"
      ]
     },
     "execution_count": 28,
     "metadata": {},
     "output_type": "execute_result"
    }
   ],
   "source": [
    "# 운영체제별 이름 \n",
    "\n",
    "import platform\n",
    "\n",
    "platform.system()"
   ]
  },
  {
   "cell_type": "code",
   "execution_count": 29,
   "metadata": {},
   "outputs": [
    {
     "name": "stdout",
     "output_type": "stream",
     "text": [
      "--sys.version—\n",
      "3.11.7 | packaged by Anaconda, Inc. | (main, Dec 15 2023, 18:05:47) [MSC v.1916 64 bit (AMD64)]\n",
      "--python_version—\n",
      "3.11.7\n"
     ]
    }
   ],
   "source": [
    "# 파이썬 버전 확인\n",
    "\n",
    "import sys\n",
    "import platform\n",
    "\n",
    "print(\"--sys.version—\")\n",
    "print(sys.version)\n",
    "\n",
    "print(\"--python_version—\")\n",
    "print(platform.python_version())"
   ]
  },
  {
   "cell_type": "markdown",
   "metadata": {},
   "source": [
    "# 모델 평가 실습(1)  "
   ]
  },
  {
   "cell_type": "markdown",
   "metadata": {},
   "source": [
    "## iris 데이터 읽기 "
   ]
  },
  {
   "cell_type": "code",
   "execution_count": 30,
   "metadata": {},
   "outputs": [
    {
     "name": "stdout",
     "output_type": "stream",
     "text": [
      "['sepal length (cm)', 'sepal width (cm)', 'petal length (cm)', 'petal width (cm)']\n",
      "['setosa' 'versicolor' 'virginica']\n"
     ]
    }
   ],
   "source": [
    "#  iris 데이터 불러오기\n",
    "\n",
    "from sklearn.datasets import load_iris\n",
    "\n",
    "iris = load_iris()\n",
    "\n",
    "print(iris.feature_names)  \n",
    "# ['sepal length (cm)', 'sepal width (cm)', 'petal length (cm)', 'petal width (cm)']\n",
    "\n",
    "print(iris.target_names)  # ['setosa' 'versicolor' 'virginica']"
   ]
  },
  {
   "cell_type": "code",
   "execution_count": 31,
   "metadata": {},
   "outputs": [
    {
     "data": {
      "text/html": [
       "<div>\n",
       "<style scoped>\n",
       "    .dataframe tbody tr th:only-of-type {\n",
       "        vertical-align: middle;\n",
       "    }\n",
       "\n",
       "    .dataframe tbody tr th {\n",
       "        vertical-align: top;\n",
       "    }\n",
       "\n",
       "    .dataframe thead th {\n",
       "        text-align: right;\n",
       "    }\n",
       "</style>\n",
       "<table border=\"1\" class=\"dataframe\">\n",
       "  <thead>\n",
       "    <tr style=\"text-align: right;\">\n",
       "      <th></th>\n",
       "      <th>sepal length (cm)</th>\n",
       "      <th>sepal width (cm)</th>\n",
       "      <th>petal length (cm)</th>\n",
       "      <th>petal width (cm)</th>\n",
       "    </tr>\n",
       "  </thead>\n",
       "  <tbody>\n",
       "    <tr>\n",
       "      <th>0</th>\n",
       "      <td>5.1</td>\n",
       "      <td>3.5</td>\n",
       "      <td>1.4</td>\n",
       "      <td>0.2</td>\n",
       "    </tr>\n",
       "    <tr>\n",
       "      <th>1</th>\n",
       "      <td>4.9</td>\n",
       "      <td>3.0</td>\n",
       "      <td>1.4</td>\n",
       "      <td>0.2</td>\n",
       "    </tr>\n",
       "    <tr>\n",
       "      <th>2</th>\n",
       "      <td>4.7</td>\n",
       "      <td>3.2</td>\n",
       "      <td>1.3</td>\n",
       "      <td>0.2</td>\n",
       "    </tr>\n",
       "    <tr>\n",
       "      <th>3</th>\n",
       "      <td>4.6</td>\n",
       "      <td>3.1</td>\n",
       "      <td>1.5</td>\n",
       "      <td>0.2</td>\n",
       "    </tr>\n",
       "    <tr>\n",
       "      <th>4</th>\n",
       "      <td>5.0</td>\n",
       "      <td>3.6</td>\n",
       "      <td>1.4</td>\n",
       "      <td>0.2</td>\n",
       "    </tr>\n",
       "    <tr>\n",
       "      <th>...</th>\n",
       "      <td>...</td>\n",
       "      <td>...</td>\n",
       "      <td>...</td>\n",
       "      <td>...</td>\n",
       "    </tr>\n",
       "    <tr>\n",
       "      <th>145</th>\n",
       "      <td>6.7</td>\n",
       "      <td>3.0</td>\n",
       "      <td>5.2</td>\n",
       "      <td>2.3</td>\n",
       "    </tr>\n",
       "    <tr>\n",
       "      <th>146</th>\n",
       "      <td>6.3</td>\n",
       "      <td>2.5</td>\n",
       "      <td>5.0</td>\n",
       "      <td>1.9</td>\n",
       "    </tr>\n",
       "    <tr>\n",
       "      <th>147</th>\n",
       "      <td>6.5</td>\n",
       "      <td>3.0</td>\n",
       "      <td>5.2</td>\n",
       "      <td>2.0</td>\n",
       "    </tr>\n",
       "    <tr>\n",
       "      <th>148</th>\n",
       "      <td>6.2</td>\n",
       "      <td>3.4</td>\n",
       "      <td>5.4</td>\n",
       "      <td>2.3</td>\n",
       "    </tr>\n",
       "    <tr>\n",
       "      <th>149</th>\n",
       "      <td>5.9</td>\n",
       "      <td>3.0</td>\n",
       "      <td>5.1</td>\n",
       "      <td>1.8</td>\n",
       "    </tr>\n",
       "  </tbody>\n",
       "</table>\n",
       "<p>150 rows × 4 columns</p>\n",
       "</div>"
      ],
      "text/plain": [
       "     sepal length (cm)  sepal width (cm)  petal length (cm)  petal width (cm)\n",
       "0                  5.1               3.5                1.4               0.2\n",
       "1                  4.9               3.0                1.4               0.2\n",
       "2                  4.7               3.2                1.3               0.2\n",
       "3                  4.6               3.1                1.5               0.2\n",
       "4                  5.0               3.6                1.4               0.2\n",
       "..                 ...               ...                ...               ...\n",
       "145                6.7               3.0                5.2               2.3\n",
       "146                6.3               2.5                5.0               1.9\n",
       "147                6.5               3.0                5.2               2.0\n",
       "148                6.2               3.4                5.4               2.3\n",
       "149                5.9               3.0                5.1               1.8\n",
       "\n",
       "[150 rows x 4 columns]"
      ]
     },
     "execution_count": 31,
     "metadata": {},
     "output_type": "execute_result"
    }
   ],
   "source": [
    "# 분석의 용이성을 위해 pandas의 DataFrame으로 변환 \n",
    "\n",
    "import pandas as pd\n",
    "\n",
    "df_iris = pd.DataFrame(data=iris.data, columns=iris.feature_names)\n",
    "df_iris"
   ]
  },
  {
   "cell_type": "code",
   "execution_count": 32,
   "metadata": {},
   "outputs": [
    {
     "data": {
      "text/plain": [
       "0      0\n",
       "1      0\n",
       "2      0\n",
       "3      0\n",
       "4      0\n",
       "      ..\n",
       "145    2\n",
       "146    2\n",
       "147    2\n",
       "148    2\n",
       "149    2\n",
       "Length: 150, dtype: category\n",
       "Categories (3, int64): [0, 1, 2]"
      ]
     },
     "execution_count": 32,
     "metadata": {},
     "output_type": "execute_result"
    }
   ],
   "source": [
    "# 타겟 데이터도 Seried 구조로 변환 \n",
    "\n",
    "target = pd.Series(iris.target, dtype=\"category\")\n",
    "target"
   ]
  },
  {
   "cell_type": "code",
   "execution_count": 33,
   "metadata": {},
   "outputs": [
    {
     "name": "stdout",
     "output_type": "stream",
     "text": [
      "0         setosa\n",
      "1         setosa\n",
      "2         setosa\n",
      "3         setosa\n",
      "4         setosa\n",
      "         ...    \n",
      "145    virginica\n",
      "146    virginica\n",
      "147    virginica\n",
      "148    virginica\n",
      "149    virginica\n",
      "Length: 150, dtype: category\n",
      "Categories (3, object): ['setosa', 'versicolor', 'virginica']\n"
     ]
    }
   ],
   "source": [
    "# 타겟값을 숫자에서 문자열('setosa', 'versicolor', 'virginica')로 수정\n",
    "\n",
    "target =target.cat.rename_categories(iris.target_names)\n",
    "print(target)"
   ]
  },
  {
   "cell_type": "code",
   "execution_count": 34,
   "metadata": {},
   "outputs": [
    {
     "data": {
      "text/html": [
       "<div>\n",
       "<style scoped>\n",
       "    .dataframe tbody tr th:only-of-type {\n",
       "        vertical-align: middle;\n",
       "    }\n",
       "\n",
       "    .dataframe tbody tr th {\n",
       "        vertical-align: top;\n",
       "    }\n",
       "\n",
       "    .dataframe thead th {\n",
       "        text-align: right;\n",
       "    }\n",
       "</style>\n",
       "<table border=\"1\" class=\"dataframe\">\n",
       "  <thead>\n",
       "    <tr style=\"text-align: right;\">\n",
       "      <th></th>\n",
       "      <th>sepal length (cm)</th>\n",
       "      <th>sepal width (cm)</th>\n",
       "      <th>petal length (cm)</th>\n",
       "      <th>petal width (cm)</th>\n",
       "      <th>species</th>\n",
       "    </tr>\n",
       "  </thead>\n",
       "  <tbody>\n",
       "    <tr>\n",
       "      <th>0</th>\n",
       "      <td>5.1</td>\n",
       "      <td>3.5</td>\n",
       "      <td>1.4</td>\n",
       "      <td>0.2</td>\n",
       "      <td>setosa</td>\n",
       "    </tr>\n",
       "    <tr>\n",
       "      <th>1</th>\n",
       "      <td>4.9</td>\n",
       "      <td>3.0</td>\n",
       "      <td>1.4</td>\n",
       "      <td>0.2</td>\n",
       "      <td>setosa</td>\n",
       "    </tr>\n",
       "    <tr>\n",
       "      <th>2</th>\n",
       "      <td>4.7</td>\n",
       "      <td>3.2</td>\n",
       "      <td>1.3</td>\n",
       "      <td>0.2</td>\n",
       "      <td>setosa</td>\n",
       "    </tr>\n",
       "    <tr>\n",
       "      <th>3</th>\n",
       "      <td>4.6</td>\n",
       "      <td>3.1</td>\n",
       "      <td>1.5</td>\n",
       "      <td>0.2</td>\n",
       "      <td>setosa</td>\n",
       "    </tr>\n",
       "    <tr>\n",
       "      <th>4</th>\n",
       "      <td>5.0</td>\n",
       "      <td>3.6</td>\n",
       "      <td>1.4</td>\n",
       "      <td>0.2</td>\n",
       "      <td>setosa</td>\n",
       "    </tr>\n",
       "    <tr>\n",
       "      <th>...</th>\n",
       "      <td>...</td>\n",
       "      <td>...</td>\n",
       "      <td>...</td>\n",
       "      <td>...</td>\n",
       "      <td>...</td>\n",
       "    </tr>\n",
       "    <tr>\n",
       "      <th>145</th>\n",
       "      <td>6.7</td>\n",
       "      <td>3.0</td>\n",
       "      <td>5.2</td>\n",
       "      <td>2.3</td>\n",
       "      <td>virginica</td>\n",
       "    </tr>\n",
       "    <tr>\n",
       "      <th>146</th>\n",
       "      <td>6.3</td>\n",
       "      <td>2.5</td>\n",
       "      <td>5.0</td>\n",
       "      <td>1.9</td>\n",
       "      <td>virginica</td>\n",
       "    </tr>\n",
       "    <tr>\n",
       "      <th>147</th>\n",
       "      <td>6.5</td>\n",
       "      <td>3.0</td>\n",
       "      <td>5.2</td>\n",
       "      <td>2.0</td>\n",
       "      <td>virginica</td>\n",
       "    </tr>\n",
       "    <tr>\n",
       "      <th>148</th>\n",
       "      <td>6.2</td>\n",
       "      <td>3.4</td>\n",
       "      <td>5.4</td>\n",
       "      <td>2.3</td>\n",
       "      <td>virginica</td>\n",
       "    </tr>\n",
       "    <tr>\n",
       "      <th>149</th>\n",
       "      <td>5.9</td>\n",
       "      <td>3.0</td>\n",
       "      <td>5.1</td>\n",
       "      <td>1.8</td>\n",
       "      <td>virginica</td>\n",
       "    </tr>\n",
       "  </tbody>\n",
       "</table>\n",
       "<p>150 rows × 5 columns</p>\n",
       "</div>"
      ],
      "text/plain": [
       "     sepal length (cm)  sepal width (cm)  petal length (cm)  petal width (cm)  \\\n",
       "0                  5.1               3.5                1.4               0.2   \n",
       "1                  4.9               3.0                1.4               0.2   \n",
       "2                  4.7               3.2                1.3               0.2   \n",
       "3                  4.6               3.1                1.5               0.2   \n",
       "4                  5.0               3.6                1.4               0.2   \n",
       "..                 ...               ...                ...               ...   \n",
       "145                6.7               3.0                5.2               2.3   \n",
       "146                6.3               2.5                5.0               1.9   \n",
       "147                6.5               3.0                5.2               2.0   \n",
       "148                6.2               3.4                5.4               2.3   \n",
       "149                5.9               3.0                5.1               1.8   \n",
       "\n",
       "       species  \n",
       "0       setosa  \n",
       "1       setosa  \n",
       "2       setosa  \n",
       "3       setosa  \n",
       "4       setosa  \n",
       "..         ...  \n",
       "145  virginica  \n",
       "146  virginica  \n",
       "147  virginica  \n",
       "148  virginica  \n",
       "149  virginica  \n",
       "\n",
       "[150 rows x 5 columns]"
      ]
     },
     "execution_count": 34,
     "metadata": {},
     "output_type": "execute_result"
    }
   ],
   "source": [
    "# 독립변수로 구성된 데이터프레임에 종속변수 속성을 추가 \n",
    "\n",
    "df_iris[\"species\"] = target\n",
    "df_iris"
   ]
  },
  {
   "cell_type": "code",
   "execution_count": 35,
   "metadata": {},
   "outputs": [
    {
     "data": {
      "text/html": [
       "<div>\n",
       "<style scoped>\n",
       "    .dataframe tbody tr th:only-of-type {\n",
       "        vertical-align: middle;\n",
       "    }\n",
       "\n",
       "    .dataframe tbody tr th {\n",
       "        vertical-align: top;\n",
       "    }\n",
       "\n",
       "    .dataframe thead th {\n",
       "        text-align: right;\n",
       "    }\n",
       "</style>\n",
       "<table border=\"1\" class=\"dataframe\">\n",
       "  <thead>\n",
       "    <tr style=\"text-align: right;\">\n",
       "      <th></th>\n",
       "      <th>sepal_length</th>\n",
       "      <th>sepal_width</th>\n",
       "      <th>petal_length</th>\n",
       "      <th>petal_width</th>\n",
       "      <th>species</th>\n",
       "    </tr>\n",
       "  </thead>\n",
       "  <tbody>\n",
       "    <tr>\n",
       "      <th>0</th>\n",
       "      <td>5.1</td>\n",
       "      <td>3.5</td>\n",
       "      <td>1.4</td>\n",
       "      <td>0.2</td>\n",
       "      <td>setosa</td>\n",
       "    </tr>\n",
       "    <tr>\n",
       "      <th>1</th>\n",
       "      <td>4.9</td>\n",
       "      <td>3.0</td>\n",
       "      <td>1.4</td>\n",
       "      <td>0.2</td>\n",
       "      <td>setosa</td>\n",
       "    </tr>\n",
       "    <tr>\n",
       "      <th>2</th>\n",
       "      <td>4.7</td>\n",
       "      <td>3.2</td>\n",
       "      <td>1.3</td>\n",
       "      <td>0.2</td>\n",
       "      <td>setosa</td>\n",
       "    </tr>\n",
       "    <tr>\n",
       "      <th>3</th>\n",
       "      <td>4.6</td>\n",
       "      <td>3.1</td>\n",
       "      <td>1.5</td>\n",
       "      <td>0.2</td>\n",
       "      <td>setosa</td>\n",
       "    </tr>\n",
       "    <tr>\n",
       "      <th>4</th>\n",
       "      <td>5.0</td>\n",
       "      <td>3.6</td>\n",
       "      <td>1.4</td>\n",
       "      <td>0.2</td>\n",
       "      <td>setosa</td>\n",
       "    </tr>\n",
       "    <tr>\n",
       "      <th>...</th>\n",
       "      <td>...</td>\n",
       "      <td>...</td>\n",
       "      <td>...</td>\n",
       "      <td>...</td>\n",
       "      <td>...</td>\n",
       "    </tr>\n",
       "    <tr>\n",
       "      <th>145</th>\n",
       "      <td>6.7</td>\n",
       "      <td>3.0</td>\n",
       "      <td>5.2</td>\n",
       "      <td>2.3</td>\n",
       "      <td>virginica</td>\n",
       "    </tr>\n",
       "    <tr>\n",
       "      <th>146</th>\n",
       "      <td>6.3</td>\n",
       "      <td>2.5</td>\n",
       "      <td>5.0</td>\n",
       "      <td>1.9</td>\n",
       "      <td>virginica</td>\n",
       "    </tr>\n",
       "    <tr>\n",
       "      <th>147</th>\n",
       "      <td>6.5</td>\n",
       "      <td>3.0</td>\n",
       "      <td>5.2</td>\n",
       "      <td>2.0</td>\n",
       "      <td>virginica</td>\n",
       "    </tr>\n",
       "    <tr>\n",
       "      <th>148</th>\n",
       "      <td>6.2</td>\n",
       "      <td>3.4</td>\n",
       "      <td>5.4</td>\n",
       "      <td>2.3</td>\n",
       "      <td>virginica</td>\n",
       "    </tr>\n",
       "    <tr>\n",
       "      <th>149</th>\n",
       "      <td>5.9</td>\n",
       "      <td>3.0</td>\n",
       "      <td>5.1</td>\n",
       "      <td>1.8</td>\n",
       "      <td>virginica</td>\n",
       "    </tr>\n",
       "  </tbody>\n",
       "</table>\n",
       "<p>150 rows × 5 columns</p>\n",
       "</div>"
      ],
      "text/plain": [
       "     sepal_length  sepal_width  petal_length  petal_width    species\n",
       "0             5.1          3.5           1.4          0.2     setosa\n",
       "1             4.9          3.0           1.4          0.2     setosa\n",
       "2             4.7          3.2           1.3          0.2     setosa\n",
       "3             4.6          3.1           1.5          0.2     setosa\n",
       "4             5.0          3.6           1.4          0.2     setosa\n",
       "..            ...          ...           ...          ...        ...\n",
       "145           6.7          3.0           5.2          2.3  virginica\n",
       "146           6.3          2.5           5.0          1.9  virginica\n",
       "147           6.5          3.0           5.2          2.0  virginica\n",
       "148           6.2          3.4           5.4          2.3  virginica\n",
       "149           5.9          3.0           5.1          1.8  virginica\n",
       "\n",
       "[150 rows x 5 columns]"
      ]
     },
     "execution_count": 35,
     "metadata": {},
     "output_type": "execute_result"
    }
   ],
   "source": [
    "# 열이름 수정\n",
    "\n",
    "df_iris.rename({\"sepal length (cm)\":\"sepal_length\", \"sepal width (cm)\": \"sepal_width\", \n",
    "                \"petal length (cm)\":\"petal_length\", \"petal width (cm)\":\"petal_width\"}, axis=1, inplace=True)\n",
    "df_iris"
   ]
  },
  {
   "cell_type": "code",
   "execution_count": 36,
   "metadata": {},
   "outputs": [
    {
     "name": "stdout",
     "output_type": "stream",
     "text": [
      "(105, 4) (45, 4) (105,) (45,)\n",
      "setosa        35\n",
      "versicolor    35\n",
      "virginica     35\n",
      "Name: species, dtype: int64\n",
      "setosa        15\n",
      "versicolor    15\n",
      "virginica     15\n",
      "Name: species, dtype: int64\n"
     ]
    }
   ],
   "source": [
    "# sklearn의 train_test_split 함수로 훈련용 데이터셋(70%)과 성능평가용 데이터셋(30) 분할 \n",
    "\n",
    "#  scikit-learn model_selection 모듈은 train_test_split 함수로 X_train, X_test, y_train, y_test 데이터셋을 분할\n",
    "\n",
    "# train_test_split(*arrays, test_size=None, train_size=None, random_state=None, shuffle=True, stratify=None,)\n",
    "#  - stratify : 층 구분 변수이름을 입력, 이때 각 층(stratum, group) 별로 나누어서 test_size 비율을 적용해서 추출 \n",
    "#  - test_size : test set의 비율 \n",
    "#  - shuffle=True : 무작위 추출(random sampling) / shuffle=False : 체계적 추출(systematic sampling) \n",
    "#  - random_state : 재현가능성을 위해서 난수 초기값으로 아무 숫자나 지정\n",
    "\n",
    "from sklearn.model_selection import train_test_split\n",
    "\n",
    "X_train, X_test, y_train, y_test = train_test_split(df_iris.iloc[:, :-1], \n",
    "                                                    df_iris.iloc[:, -1], \n",
    "                                                    test_size=0.3, \n",
    "                                                    shuffle=True,               # shuffle=True : 무작위 추출(random sampling)\n",
    "                                                    stratify=df_iris['species'], # stratify : 층 구분 변수이름 \n",
    "                                                    random_state=42)             # 데이터셋 분할결과를 반환 \n",
    "\n",
    "print(X_train.shape, X_test.shape, y_train.shape, y_test.shape)\n",
    "print(y_train.value_counts())\n",
    "print(y_test.value_counts())"
   ]
  },
  {
   "cell_type": "code",
   "execution_count": 37,
   "metadata": {},
   "outputs": [],
   "source": [
    "# 표준화 (StandardScaler)\n",
    "\n",
    "from sklearn.preprocessing import StandardScaler\n",
    "\n",
    "scaler = StandardScaler()\n",
    "X_train = scaler.fit_transform(X_train)\n",
    "X_test = scaler.transform(X_test)"
   ]
  },
  {
   "cell_type": "markdown",
   "metadata": {},
   "source": [
    "## 의사결정나무 모델 생성 및 학습"
   ]
  },
  {
   "cell_type": "code",
   "execution_count": 38,
   "metadata": {},
   "outputs": [
    {
     "data": {
      "text/html": [
       "<style>#sk-container-id-2 {color: black;background-color: white;}#sk-container-id-2 pre{padding: 0;}#sk-container-id-2 div.sk-toggleable {background-color: white;}#sk-container-id-2 label.sk-toggleable__label {cursor: pointer;display: block;width: 100%;margin-bottom: 0;padding: 0.3em;box-sizing: border-box;text-align: center;}#sk-container-id-2 label.sk-toggleable__label-arrow:before {content: \"▸\";float: left;margin-right: 0.25em;color: #696969;}#sk-container-id-2 label.sk-toggleable__label-arrow:hover:before {color: black;}#sk-container-id-2 div.sk-estimator:hover label.sk-toggleable__label-arrow:before {color: black;}#sk-container-id-2 div.sk-toggleable__content {max-height: 0;max-width: 0;overflow: hidden;text-align: left;background-color: #f0f8ff;}#sk-container-id-2 div.sk-toggleable__content pre {margin: 0.2em;color: black;border-radius: 0.25em;background-color: #f0f8ff;}#sk-container-id-2 input.sk-toggleable__control:checked~div.sk-toggleable__content {max-height: 200px;max-width: 100%;overflow: auto;}#sk-container-id-2 input.sk-toggleable__control:checked~label.sk-toggleable__label-arrow:before {content: \"▾\";}#sk-container-id-2 div.sk-estimator input.sk-toggleable__control:checked~label.sk-toggleable__label {background-color: #d4ebff;}#sk-container-id-2 div.sk-label input.sk-toggleable__control:checked~label.sk-toggleable__label {background-color: #d4ebff;}#sk-container-id-2 input.sk-hidden--visually {border: 0;clip: rect(1px 1px 1px 1px);clip: rect(1px, 1px, 1px, 1px);height: 1px;margin: -1px;overflow: hidden;padding: 0;position: absolute;width: 1px;}#sk-container-id-2 div.sk-estimator {font-family: monospace;background-color: #f0f8ff;border: 1px dotted black;border-radius: 0.25em;box-sizing: border-box;margin-bottom: 0.5em;}#sk-container-id-2 div.sk-estimator:hover {background-color: #d4ebff;}#sk-container-id-2 div.sk-parallel-item::after {content: \"\";width: 100%;border-bottom: 1px solid gray;flex-grow: 1;}#sk-container-id-2 div.sk-label:hover label.sk-toggleable__label {background-color: #d4ebff;}#sk-container-id-2 div.sk-serial::before {content: \"\";position: absolute;border-left: 1px solid gray;box-sizing: border-box;top: 0;bottom: 0;left: 50%;z-index: 0;}#sk-container-id-2 div.sk-serial {display: flex;flex-direction: column;align-items: center;background-color: white;padding-right: 0.2em;padding-left: 0.2em;position: relative;}#sk-container-id-2 div.sk-item {position: relative;z-index: 1;}#sk-container-id-2 div.sk-parallel {display: flex;align-items: stretch;justify-content: center;background-color: white;position: relative;}#sk-container-id-2 div.sk-item::before, #sk-container-id-2 div.sk-parallel-item::before {content: \"\";position: absolute;border-left: 1px solid gray;box-sizing: border-box;top: 0;bottom: 0;left: 50%;z-index: -1;}#sk-container-id-2 div.sk-parallel-item {display: flex;flex-direction: column;z-index: 1;position: relative;background-color: white;}#sk-container-id-2 div.sk-parallel-item:first-child::after {align-self: flex-end;width: 50%;}#sk-container-id-2 div.sk-parallel-item:last-child::after {align-self: flex-start;width: 50%;}#sk-container-id-2 div.sk-parallel-item:only-child::after {width: 0;}#sk-container-id-2 div.sk-dashed-wrapped {border: 1px dashed gray;margin: 0 0.4em 0.5em 0.4em;box-sizing: border-box;padding-bottom: 0.4em;background-color: white;}#sk-container-id-2 div.sk-label label {font-family: monospace;font-weight: bold;display: inline-block;line-height: 1.2em;}#sk-container-id-2 div.sk-label-container {text-align: center;}#sk-container-id-2 div.sk-container {/* jupyter's `normalize.less` sets `[hidden] { display: none; }` but bootstrap.min.css set `[hidden] { display: none !important; }` so we also need the `!important` here to be able to override the default hidden behavior on the sphinx rendered scikit-learn.org. See: https://github.com/scikit-learn/scikit-learn/issues/21755 */display: inline-block !important;position: relative;}#sk-container-id-2 div.sk-text-repr-fallback {display: none;}</style><div id=\"sk-container-id-2\" class=\"sk-top-container\"><div class=\"sk-text-repr-fallback\"><pre>DecisionTreeClassifier(max_depth=4, random_state=42, splitter=&#x27;random&#x27;)</pre><b>In a Jupyter environment, please rerun this cell to show the HTML representation or trust the notebook. <br />On GitHub, the HTML representation is unable to render, please try loading this page with nbviewer.org.</b></div><div class=\"sk-container\" hidden><div class=\"sk-item\"><div class=\"sk-estimator sk-toggleable\"><input class=\"sk-toggleable__control sk-hidden--visually\" id=\"sk-estimator-id-2\" type=\"checkbox\" checked><label for=\"sk-estimator-id-2\" class=\"sk-toggleable__label sk-toggleable__label-arrow\">DecisionTreeClassifier</label><div class=\"sk-toggleable__content\"><pre>DecisionTreeClassifier(max_depth=4, random_state=42, splitter=&#x27;random&#x27;)</pre></div></div></div></div></div>"
      ],
      "text/plain": [
       "DecisionTreeClassifier(max_depth=4, random_state=42, splitter='random')"
      ]
     },
     "execution_count": 38,
     "metadata": {},
     "output_type": "execute_result"
    }
   ],
   "source": [
    "# 데이터 분석 결과를 토대로 적합한 알고리즘을 선택  \n",
    "#  - GridSearchCV 결과를 반영한 모델 생성 \n",
    "\n",
    "from sklearn.tree import DecisionTreeClassifier\n",
    "\n",
    "model = DecisionTreeClassifier(splitter='random',random_state=42,max_depth=4) # 모델 생성  \n",
    "model.fit(X_train, y_train)                                                   # 학습 "
   ]
  },
  {
   "cell_type": "code",
   "execution_count": 13,
   "metadata": {},
   "outputs": [],
   "source": [
    "# ?DecisionTreeClassifier\n",
    "# DecisionTreeClassifier(*, criterion='gini', splitter='best', max_depth=None, min_samples_split=2, min_samples_leaf=1,\n",
    "#                        min_weight_fraction_leaf=0.0,max_features=None,random_state=None,max_leaf_nodes=None,\n",
    "#                        min_impurity_decrease=0.0,class_weight=None,ccp_alpha=0.0,)\n",
    "\n",
    "# Best Estimator:\n",
    "#  DecisionTreeClassifier(max_depth=4, random_state=42, splitter='random')\n",
    "\n",
    "# Best Params:\n",
    "#  {'criterion': 'gini', 'max_depth': 4, 'min_impurity_decrease': 0.0, 'min_weight_fraction_leaf': 0.0, 'random_state': 42, 'splitter': 'random'}\n",
    "\n",
    "# Best Score:\n",
    "#  0.9627272727272727"
   ]
  },
  {
   "cell_type": "markdown",
   "metadata": {},
   "source": [
    "## 아이리스 데이터셋의 Confusion Matrix"
   ]
  },
  {
   "cell_type": "code",
   "execution_count": 39,
   "metadata": {},
   "outputs": [
    {
     "name": "stdout",
     "output_type": "stream",
     "text": [
      "Confusion Matrix : \n",
      " [[14  1  0]\n",
      " [ 0 13  2]\n",
      " [ 0  5 10]]\n"
     ]
    }
   ],
   "source": [
    "# 아이리스 데이터셋의 Confusion Matrix\n",
    "\n",
    "from sklearn.metrics import confusion_matrix\n",
    "\n",
    "pred = model.predict(X_test)\n",
    "confMatrix = confusion_matrix(y_test, pred)\n",
    "print(\"Confusion Matrix : \\n\", confMatrix)\n",
    "# Confusion Matrix : \n",
    "#  [[14  1  0]\n",
    "#   [ 0 13  2]\n",
    "#   [ 0  5 10]]"
   ]
  },
  {
   "cell_type": "code",
   "execution_count": 40,
   "metadata": {},
   "outputs": [
    {
     "data": {
      "image/png": "[encoded data removed]",
      "text/plain": [
       "<Figure size 640x480 with 2 Axes>"
      ]
     },
     "metadata": {
      "image/png": {
       "height": 455,
       "width": 547
      }
     },
     "output_type": "display_data"
    }
   ],
   "source": [
    "# scikit-plot을 이용하면 confusion matrix를 좀 더 직관적인 heatmap으로 시각화 \n",
    "# scikit-learn에서는 가로축과 세로축의 라벨이 없었던 반면에 scikit-plot은 축 라벨이 있어서 결과를 해석하기가 좀 더 용이함\n",
    "\n",
    "import scikitplot as skplt\n",
    "\n",
    "pred = model.predict(X_test)\n",
    "skplt.metrics.plot_confusion_matrix(y_test, pred)\n",
    "plt.show()"
   ]
  },
  {
   "cell_type": "markdown",
   "metadata": {},
   "source": [
    "## 모델 평가 - 정확도 "
   ]
  },
  {
   "cell_type": "code",
   "execution_count": 41,
   "metadata": {},
   "outputs": [
    {
     "name": "stdout",
     "output_type": "stream",
     "text": [
      "Accuracy :  0.8222\n"
     ]
    }
   ],
   "source": [
    "# 정확도 \n",
    "\n",
    "from sklearn.metrics import accuracy_score\n",
    "import numpy as np \n",
    "\n",
    "pred = model.predict(X_test)\n",
    "acc = np.round(accuracy_score(y_test, pred), 4)\n",
    "print(\"Accuracy : \", acc)               # Accuracy :  0.8222"
   ]
  },
  {
   "cell_type": "markdown",
   "metadata": {},
   "source": [
    "## 정밀도(precision)"
   ]
  },
  {
   "cell_type": "code",
   "execution_count": 42,
   "metadata": {},
   "outputs": [
    {
     "name": "stdout",
     "output_type": "stream",
     "text": [
      "setosa의 정밀도: 1.0\n",
      "versicolor의 정밀도: 0.6842105263157895\n",
      "virginica의 정밀도: 0.8333333333333334\n"
     ]
    }
   ],
   "source": [
    "# 정밀도(precision)는 예측한 클래스 중에 실제로 맞은 비율이다.\n",
    "#  - precision = TP / (TP + FP)\n",
    "#  - setosa의 정밀도: 14 / 14 = 1.0 \n",
    "#  - versicolor의 정밀도: 13 / (1+13+5) = 0.68421 \n",
    "#  - virginica의 정밀도: 10 / (2+10) = 0.83333 \n",
    "\n",
    "from sklearn.metrics import precision_score\n",
    "\n",
    "# average 기본값은 binary이며 다중 분류 일 때는 binary가 아니어야 함\n",
    "precisions = precision_score(y_test, model.predict(X_test), average=None)\n",
    "\n",
    "for target, score in zip(iris.target_names, precisions):\n",
    "    print(f\"{target}의 정밀도: {score}\")\n",
    "    \n",
    "# setosa의 정밀도: 1.0\n",
    "# versicolor의 정밀도: 0.6842105263157895\n",
    "# virginica의 정밀도: 0.8333333333333334    "
   ]
  },
  {
   "cell_type": "markdown",
   "metadata": {},
   "source": [
    "## 재현율(recall) 또는 민감도(sensitivity)"
   ]
  },
  {
   "cell_type": "code",
   "execution_count": 43,
   "metadata": {},
   "outputs": [
    {
     "name": "stdout",
     "output_type": "stream",
     "text": [
      "setosa의 재현율: 0.9333333333333333\n",
      "versicolor의 재현율: 0.8666666666666667\n",
      "virginica의 재현율: 0.6666666666666666\n"
     ]
    }
   ],
   "source": [
    "# 재현율은 실제 타겟 클래스 중에 예측이 맞은 비율이다. \n",
    "#  - sensitivity = TP / (TP + FN)\n",
    "#  - setosa의 재현율: 14 / (14+1) = 0.9333333333333333\n",
    "#  - versicolor의 재현율: 13 / (13 + 2) = 0.8666666666666667\n",
    "#  - virginica의 재현율: 10 / (5 + 10) = 0.6666666666666666\n",
    "\n",
    "from sklearn.metrics import recall_score\n",
    "\n",
    "# average 기본값은 binary이며 다중 분류 일 때는 binary가 아니어야 함\n",
    "recalls = recall_score(y_test, model.predict(X_test), average=None)\n",
    "\n",
    "for target, score in zip(iris.target_names, recalls):\n",
    "    print(f\"{target}의 재현율: {score}\")\n",
    "\n",
    "# setosa의 재현율: 0.9333333333333333\n",
    "# versicolor의 재현율: 0.8666666666666667\n",
    "# virginica의 재현율: 0.6666666666666666    "
   ]
  },
  {
   "cell_type": "markdown",
   "metadata": {},
   "source": [
    "## F-점수(f-score) / F1-점수 (f1-score)"
   ]
  },
  {
   "cell_type": "code",
   "execution_count": 44,
   "metadata": {},
   "outputs": [
    {
     "name": "stdout",
     "output_type": "stream",
     "text": [
      "setosa의 f-beta: 0.9459459459459459\n",
      "versicolor의 f-beta: 0.8227848101265822\n",
      "virginica의 f-beta: 0.6944444444444444\n",
      "----------------------------------------\n",
      "setosa의 f1-score: 0.9655172413793104\n",
      "versicolor의 f1-score: 0.7647058823529413\n",
      "virginica의 f1-score: 0.7407407407407408\n"
     ]
    }
   ],
   "source": [
    "# 정밀도와 재현율(민감도)의 가중조화평균(weight harmonic average)을 F점수(F-score)라고 한다. \n",
    "\n",
    "# F1-점수(f1-score)는 정밀도와 재현율(민감도)의 조화평균을 나타내며 정밀도와 재현율(민감도)에 같은 가중치를 부여하여 평균하게 된다.\n",
    "# - setosa의 f1-score: (2*1.0*0.9333333333333333)/(1.0+0.9333333333333333) = 0.9655172413793104\n",
    "# - versicolor의 f1-score: (2*0.6842105263157895*0.8666666666666667)/(0.6842105263157895+0.8666666666666667) = 0.7647058823529413 \n",
    "# - virginica의 f1-score: (2*0.8333333333333334*0.6666666666666666)/(0.8333333333333334+0.6666666666666666) = 0.7407407407407408  \n",
    "\n",
    "from sklearn.metrics import fbeta_score, f1_score\n",
    "\n",
    "# average 기본값은 binary이며 다중 분류 일 때는 binary가 아니어야 함\n",
    "fbetas = fbeta_score(y_test, model.predict(X_test), average=None, beta=2)\n",
    "\n",
    "for target, score in zip(iris.target_names, fbetas):\n",
    "    print(f\"{target}의 f-beta: {score}\")\n",
    "\n",
    "print('-' * 40)\n",
    "\n",
    "f1s = f1_score(y_test, model.predict(X_test), average=None)\n",
    "for target, score in zip(iris.target_names, f1s):\n",
    "    print(f\"{target}의 f1-score: {score}\")\n",
    "\n",
    "# setosa의 f1-score: 0.9655172413793104\n",
    "# versicolor의 f1-score: 0.7647058823529413\n",
    "# virginica의 f1-score: 0.7407407407407408    "
   ]
  },
  {
   "cell_type": "code",
   "execution_count": 45,
   "metadata": {},
   "outputs": [
    {
     "data": {
      "text/plain": [
       "0.9655172413793104"
      ]
     },
     "execution_count": 45,
     "metadata": {},
     "output_type": "execute_result"
    }
   ],
   "source": [
    "(2*1.0*0.9333333333333333)/(1.0+0.9333333333333333)"
   ]
  },
  {
   "cell_type": "code",
   "execution_count": 46,
   "metadata": {},
   "outputs": [
    {
     "data": {
      "text/plain": [
       "0.7647058823529413"
      ]
     },
     "execution_count": 46,
     "metadata": {},
     "output_type": "execute_result"
    }
   ],
   "source": [
    "(2*0.6842105263157895*0.8666666666666667)/(0.6842105263157895+0.8666666666666667)"
   ]
  },
  {
   "cell_type": "code",
   "execution_count": 47,
   "metadata": {},
   "outputs": [
    {
     "data": {
      "text/plain": [
       "0.7407407407407408"
      ]
     },
     "execution_count": 47,
     "metadata": {},
     "output_type": "execute_result"
    }
   ],
   "source": [
    "(2*0.8333333333333334*0.6666666666666666)/(0.8333333333333334+0.6666666666666666)"
   ]
  },
  {
   "cell_type": "markdown",
   "metadata": {},
   "source": [
    "## Classification_Report"
   ]
  },
  {
   "cell_type": "code",
   "execution_count": 49,
   "metadata": {},
   "outputs": [
    {
     "name": "stdout",
     "output_type": "stream",
     "text": [
      "              precision    recall  f1-score   support\n",
      "\n",
      "      setosa       1.00      0.93      0.97        15\n",
      "  versicolor       0.68      0.87      0.76        15\n",
      "   virginica       0.83      0.67      0.74        15\n",
      "\n",
      "    accuracy                           0.82        45\n",
      "   macro avg       0.84      0.82      0.82        45\n",
      "weighted avg       0.84      0.82      0.82        45\n",
      "\n"
     ]
    }
   ],
   "source": [
    "# classification_report : \n",
    "# 각각의 클래스를 양성(positive) 클래스로 보았을 때의 정밀도, 재현율, F1점수를 각각 구하고 그 평균값으로 전체 모형의 성능을 평가한다.\n",
    "\n",
    "from sklearn.metrics import classification_report\n",
    "\n",
    "print(classification_report(y_test, model.predict(X_test), target_names=iris.target_names))"
   ]
  },
  {
   "cell_type": "code",
   "execution_count": 20,
   "metadata": {},
   "outputs": [
    {
     "data": {
      "text/plain": [
       "array([[2, 0, 0],\n",
       "       [0, 0, 1],\n",
       "       [1, 0, 2]], dtype=int64)"
      ]
     },
     "execution_count": 20,
     "metadata": {},
     "output_type": "execute_result"
    }
   ],
   "source": [
    "# Confusion Matrix 예제\n",
    "\n",
    "from sklearn.metrics import confusion_matrix\n",
    "\n",
    "y_true = [2, 0, 2, 2, 0, 1]\n",
    "y_pred = [0, 0, 2, 2, 0, 2]\n",
    "confusion_matrix(y_true, y_pred)"
   ]
  },
  {
   "cell_type": "code",
   "execution_count": 21,
   "metadata": {},
   "outputs": [
    {
     "name": "stdout",
     "output_type": "stream",
     "text": [
      "              precision    recall  f1-score   support\n",
      "\n",
      "     class 0       0.75      0.60      0.67         5\n",
      "     class 1       0.33      0.50      0.40         2\n",
      "\n",
      "    accuracy                           0.57         7\n",
      "   macro avg       0.54      0.55      0.53         7\n",
      "weighted avg       0.63      0.57      0.59         7\n",
      "\n"
     ]
    }
   ],
   "source": [
    "# classification_report\n",
    "\n",
    "from sklearn.metrics import classification_report\n",
    "\n",
    "y_true = [0, 0, 0, 1, 1, 0, 0]\n",
    "y_pred = [0, 0, 0, 0, 1, 1, 1]\n",
    "print(classification_report(y_true, y_pred, target_names=['class 0', 'class 1']))"
   ]
  },
  {
   "cell_type": "markdown",
   "metadata": {},
   "source": [
    "## 아이리스 데이터셋으로 ROC 곡선 그리기 "
   ]
  },
  {
   "cell_type": "code",
   "execution_count": 22,
   "metadata": {},
   "outputs": [
    {
     "data": {
      "image/png": "[encoded data removed]",
      "text/plain": [
       "<Figure size 640x480 with 1 Axes>"
      ]
     },
     "metadata": {
      "image/png": {
       "height": 455,
       "width": 573
      }
     },
     "output_type": "display_data"
    }
   ],
   "source": [
    "# 다중 클래스 문제를 One-vs-Rest (OvR) 방식으로 처리하여 각 클래스에 대한 ROC 곡선을 그림\n",
    "\n",
    "# 코드 설명\n",
    "# 아이리스 데이터셋 로드: datasets.load_iris()를 사용하여 데이터를 로드함\n",
    "# 이진화: label_binarize 함수를 사용하여 다중 클래스 라벨을 이진화함\n",
    "# 데이터 분할: train_test_split을 사용하여 데이터를 학습용과 테스트용으로 나눔\n",
    "# 표준화: StandardScaler를 사용하여 데이터를 표준화함\n",
    "# One-vs-Rest 분류기 설정: OneVsRestClassifier와 DecisionTreeClassifier를 사용하여 각 클래스에 대해 이진 분류기를 학습시킴\n",
    "# ROC 곡선 그리기: 각 클래스에 대해 ROC 곡선을 그리고, 이를 한 그래프에 표시함\n",
    "# 이 코드를 실행하면 아이리스 데이터셋에 대한 각 클래스의 ROC 곡선을 시각화할 수 있음\n",
    "\n",
    "import numpy as np\n",
    "import matplotlib.pyplot as plt\n",
    "from sklearn import datasets\n",
    "from sklearn.metrics import roc_curve, auc\n",
    "from sklearn.model_selection import train_test_split\n",
    "from sklearn.preprocessing import label_binarize\n",
    "from sklearn.multiclass import OneVsRestClassifier\n",
    "from sklearn.tree import DecisionTreeClassifier\n",
    "from sklearn.preprocessing import StandardScaler\n",
    "\n",
    "# 아이리스 데이터셋 로드\n",
    "iris = datasets.load_iris()\n",
    "X = iris.data\n",
    "y = iris.target\n",
    "\n",
    "# 데이터를 이진화 (One-vs-Rest)\n",
    "y_binarized = label_binarize(y, classes=[0, 1, 2])\n",
    "n_classes = y_binarized.shape[1]\n",
    "\n",
    "# 데이터 분할 (학습용 데이터와 테스트용 데이터로 나누기)\n",
    "X_train, X_test, y_train, y_test = train_test_split(X, y_binarized, test_size=0.5, random_state=42)\n",
    "\n",
    "# 표준화 (StandardScaler)\n",
    "scaler = StandardScaler()\n",
    "X_train = scaler.fit_transform(X_train)\n",
    "X_test = scaler.transform(X_test)\n",
    "\n",
    "# 분류기 설정\n",
    "classifier = OneVsRestClassifier(DecisionTreeClassifier(random_state=42))\n",
    "\n",
    "# 모델 학습 및 예측 확률 계산\n",
    "y_score = classifier.fit(X_train, y_train).predict_proba(X_test)\n",
    "\n",
    "# ROC 곡선을 그리기 위한 설정\n",
    "fpr = dict()\n",
    "tpr = dict()\n",
    "roc_auc = dict()\n",
    "for i in range(n_classes):\n",
    "    fpr[i], tpr[i], _ = roc_curve(y_test[:, i], y_score[:, i])\n",
    "    roc_auc[i] = auc(fpr[i], tpr[i])\n",
    "\n",
    "# 전체 ROC 곡선 그리기\n",
    "plt.figure()\n",
    "colors = ['aqua', 'darkorange', 'cornflowerblue']\n",
    "for i, color in zip(range(n_classes), colors):\n",
    "    plt.plot(fpr[i], tpr[i], color=color, lw=2,\n",
    "             label='ROC curve of class {0} (area = {1:0.2f})'\n",
    "             ''.format(i, roc_auc[i]))\n",
    "\n",
    "plt.plot([0, 1], [0, 1], 'k--', lw=2)\n",
    "plt.xlim([0.0, 1.0])\n",
    "plt.ylim([0.0, 1.05])\n",
    "plt.xlabel('False Positive Rate')\n",
    "plt.ylabel('True Positive Rate')\n",
    "plt.title('Receiver Operating Characteristic for Iris Dataset')\n",
    "plt.legend(loc=\"lower right\")\n",
    "plt.show()\n",
    "\n",
    "# class 0:'setosa', class 1:'versicolor', class 2:'virginica']"
   ]
  },
  {
   "cell_type": "markdown",
   "metadata": {},
   "source": [
    "# 모델 평가 실습(2) "
   ]
  },
  {
   "cell_type": "markdown",
   "metadata": {},
   "source": [
    "## 이진 분류 데이터셋으로 ROC 곡선 그리기 "
   ]
  },
  {
   "cell_type": "code",
   "execution_count": 178,
   "metadata": {},
   "outputs": [
    {
     "name": "stdout",
     "output_type": "stream",
     "text": [
      "(4000, 2)\n",
      "(4000,)\n",
      "[[-1.68634397 -1.48712614]\n",
      " [-1.13876586 -0.011514  ]\n",
      " [-0.83921101 -0.97389947]\n",
      " [ 1.30473783 -1.72571204]\n",
      " [ 1.09798932 -0.9857081 ]\n",
      " [-1.63157569 -0.17534754]\n",
      " [-0.74394882 -0.85514724]\n",
      " [-0.3580264  -2.37929683]\n",
      " [-1.36898688 -1.18195672]\n",
      " [-1.0031273   1.01371182]]\n",
      "[0 0 0 0 0 0 0 0 0 1]\n"
     ]
    }
   ],
   "source": [
    "# make() 함수로 변수가 2개인 이진 분류 데이터 100개를 생성한다.   \n",
    "#  - X : 독립변수 \n",
    "#  - y : 종속변수 \n",
    "\n",
    "# make_classification함수는 설정에 따른 분류용 가상 데이터를 생성하는 명령이다. \n",
    "#                 이 함수의 인수와 반환값은 다음과 같다.\n",
    "#  [인수]\n",
    "#  - n_samples : 표본 데이터의 수, 디폴트 100\n",
    "#  - n_features : 독립 변수의 수, 디폴트 20 \n",
    "#  - n_informative : 독립 변수 중 종속 변수와 상관 관계가 있는 성분의 수, 디폴트 2 \n",
    "#  - n_redundant : 독립 변수 중 다른 독립 변수의 선형 조합으로 나타나는 성분의 수, 디폴트 2 \n",
    "#  - n_repeated : 독립 변수 중 단순 중복된 성분의 수, 디폴트 0 \n",
    "#  - n_classes : 종속 변수의 클래스 수, 디폴트 2 \n",
    "#  - n_clusters_per_class : 클래스 당 클러스터의 수, 디폴트 2 \n",
    "#  - weights : 각 클래스에 할당된 표본 수 \n",
    "#  - random_state : 난수 발생 시드 \n",
    "#  [반환값]\n",
    "#  - X : [n_samples, n_features] 크기의 배열 - 독립변수 \n",
    "#  - y : [n_samples] 크기의 배열 - 종속변수 \n",
    "\n",
    "from sklearn.datasets import make_classification\n",
    "\n",
    "X, y = make_classification(n_samples=4000, n_features=2, n_informative=2, n_classes=2, \n",
    "                           weights=[0.9, 0.1], n_redundant=0, random_state=0)\n",
    "print(X.shape)\n",
    "print(y.shape)\n",
    "print(X[:10]) \n",
    "print(y[:10])"
   ]
  },
  {
   "cell_type": "code",
   "execution_count": 159,
   "metadata": {},
   "outputs": [
    {
     "data": {
      "text/html": [
       "<div>\n",
       "<style scoped>\n",
       "    .dataframe tbody tr th:only-of-type {\n",
       "        vertical-align: middle;\n",
       "    }\n",
       "\n",
       "    .dataframe tbody tr th {\n",
       "        vertical-align: top;\n",
       "    }\n",
       "\n",
       "    .dataframe thead th {\n",
       "        text-align: right;\n",
       "    }\n",
       "</style>\n",
       "<table border=\"1\" class=\"dataframe\">\n",
       "  <thead>\n",
       "    <tr style=\"text-align: right;\">\n",
       "      <th></th>\n",
       "      <th>att1</th>\n",
       "      <th>att2</th>\n",
       "    </tr>\n",
       "  </thead>\n",
       "  <tbody>\n",
       "    <tr>\n",
       "      <th>0</th>\n",
       "      <td>-1.686344</td>\n",
       "      <td>-1.487126</td>\n",
       "    </tr>\n",
       "    <tr>\n",
       "      <th>1</th>\n",
       "      <td>-1.138766</td>\n",
       "      <td>-0.011514</td>\n",
       "    </tr>\n",
       "    <tr>\n",
       "      <th>2</th>\n",
       "      <td>-0.839211</td>\n",
       "      <td>-0.973899</td>\n",
       "    </tr>\n",
       "    <tr>\n",
       "      <th>3</th>\n",
       "      <td>1.304738</td>\n",
       "      <td>-1.725712</td>\n",
       "    </tr>\n",
       "    <tr>\n",
       "      <th>4</th>\n",
       "      <td>1.097989</td>\n",
       "      <td>-0.985708</td>\n",
       "    </tr>\n",
       "    <tr>\n",
       "      <th>...</th>\n",
       "      <td>...</td>\n",
       "      <td>...</td>\n",
       "    </tr>\n",
       "    <tr>\n",
       "      <th>3995</th>\n",
       "      <td>-1.127836</td>\n",
       "      <td>-0.527921</td>\n",
       "    </tr>\n",
       "    <tr>\n",
       "      <th>3996</th>\n",
       "      <td>0.687904</td>\n",
       "      <td>-1.015994</td>\n",
       "    </tr>\n",
       "    <tr>\n",
       "      <th>3997</th>\n",
       "      <td>-1.343565</td>\n",
       "      <td>-1.339740</td>\n",
       "    </tr>\n",
       "    <tr>\n",
       "      <th>3998</th>\n",
       "      <td>0.504518</td>\n",
       "      <td>0.782109</td>\n",
       "    </tr>\n",
       "    <tr>\n",
       "      <th>3999</th>\n",
       "      <td>-1.209042</td>\n",
       "      <td>-0.526577</td>\n",
       "    </tr>\n",
       "  </tbody>\n",
       "</table>\n",
       "<p>4000 rows × 2 columns</p>\n",
       "</div>"
      ],
      "text/plain": [
       "          att1      att2\n",
       "0    -1.686344 -1.487126\n",
       "1    -1.138766 -0.011514\n",
       "2    -0.839211 -0.973899\n",
       "3     1.304738 -1.725712\n",
       "4     1.097989 -0.985708\n",
       "...        ...       ...\n",
       "3995 -1.127836 -0.527921\n",
       "3996  0.687904 -1.015994\n",
       "3997 -1.343565 -1.339740\n",
       "3998  0.504518  0.782109\n",
       "3999 -1.209042 -0.526577\n",
       "\n",
       "[4000 rows x 2 columns]"
      ]
     },
     "execution_count": 159,
     "metadata": {},
     "output_type": "execute_result"
    }
   ],
   "source": [
    "# 분석의 용이성을 위해 pandas의 DataFrame으로 변환 \n",
    "\n",
    "import pandas as pd\n",
    "\n",
    "df_data = pd.DataFrame(data=X, columns=['att1','att2'])\n",
    "df_data"
   ]
  },
  {
   "cell_type": "code",
   "execution_count": 160,
   "metadata": {},
   "outputs": [
    {
     "data": {
      "text/plain": [
       "0       0\n",
       "1       0\n",
       "2       0\n",
       "3       0\n",
       "4       0\n",
       "       ..\n",
       "3995    0\n",
       "3996    0\n",
       "3997    0\n",
       "3998    1\n",
       "3999    0\n",
       "Length: 4000, dtype: category\n",
       "Categories (2, int64): [0, 1]"
      ]
     },
     "execution_count": 160,
     "metadata": {},
     "output_type": "execute_result"
    }
   ],
   "source": [
    "# 타겟 데이터도 Seried 구조로 변환 \n",
    "\n",
    "target = pd.Series(y, dtype=\"category\")\n",
    "target"
   ]
  },
  {
   "cell_type": "code",
   "execution_count": 161,
   "metadata": {},
   "outputs": [
    {
     "data": {
      "text/html": [
       "<div>\n",
       "<style scoped>\n",
       "    .dataframe tbody tr th:only-of-type {\n",
       "        vertical-align: middle;\n",
       "    }\n",
       "\n",
       "    .dataframe tbody tr th {\n",
       "        vertical-align: top;\n",
       "    }\n",
       "\n",
       "    .dataframe thead th {\n",
       "        text-align: right;\n",
       "    }\n",
       "</style>\n",
       "<table border=\"1\" class=\"dataframe\">\n",
       "  <thead>\n",
       "    <tr style=\"text-align: right;\">\n",
       "      <th></th>\n",
       "      <th>att1</th>\n",
       "      <th>att2</th>\n",
       "      <th>class</th>\n",
       "    </tr>\n",
       "  </thead>\n",
       "  <tbody>\n",
       "    <tr>\n",
       "      <th>0</th>\n",
       "      <td>-1.686344</td>\n",
       "      <td>-1.487126</td>\n",
       "      <td>0</td>\n",
       "    </tr>\n",
       "    <tr>\n",
       "      <th>1</th>\n",
       "      <td>-1.138766</td>\n",
       "      <td>-0.011514</td>\n",
       "      <td>0</td>\n",
       "    </tr>\n",
       "    <tr>\n",
       "      <th>2</th>\n",
       "      <td>-0.839211</td>\n",
       "      <td>-0.973899</td>\n",
       "      <td>0</td>\n",
       "    </tr>\n",
       "    <tr>\n",
       "      <th>3</th>\n",
       "      <td>1.304738</td>\n",
       "      <td>-1.725712</td>\n",
       "      <td>0</td>\n",
       "    </tr>\n",
       "    <tr>\n",
       "      <th>4</th>\n",
       "      <td>1.097989</td>\n",
       "      <td>-0.985708</td>\n",
       "      <td>0</td>\n",
       "    </tr>\n",
       "    <tr>\n",
       "      <th>...</th>\n",
       "      <td>...</td>\n",
       "      <td>...</td>\n",
       "      <td>...</td>\n",
       "    </tr>\n",
       "    <tr>\n",
       "      <th>3995</th>\n",
       "      <td>-1.127836</td>\n",
       "      <td>-0.527921</td>\n",
       "      <td>0</td>\n",
       "    </tr>\n",
       "    <tr>\n",
       "      <th>3996</th>\n",
       "      <td>0.687904</td>\n",
       "      <td>-1.015994</td>\n",
       "      <td>0</td>\n",
       "    </tr>\n",
       "    <tr>\n",
       "      <th>3997</th>\n",
       "      <td>-1.343565</td>\n",
       "      <td>-1.339740</td>\n",
       "      <td>0</td>\n",
       "    </tr>\n",
       "    <tr>\n",
       "      <th>3998</th>\n",
       "      <td>0.504518</td>\n",
       "      <td>0.782109</td>\n",
       "      <td>1</td>\n",
       "    </tr>\n",
       "    <tr>\n",
       "      <th>3999</th>\n",
       "      <td>-1.209042</td>\n",
       "      <td>-0.526577</td>\n",
       "      <td>0</td>\n",
       "    </tr>\n",
       "  </tbody>\n",
       "</table>\n",
       "<p>4000 rows × 3 columns</p>\n",
       "</div>"
      ],
      "text/plain": [
       "          att1      att2 class\n",
       "0    -1.686344 -1.487126     0\n",
       "1    -1.138766 -0.011514     0\n",
       "2    -0.839211 -0.973899     0\n",
       "3     1.304738 -1.725712     0\n",
       "4     1.097989 -0.985708     0\n",
       "...        ...       ...   ...\n",
       "3995 -1.127836 -0.527921     0\n",
       "3996  0.687904 -1.015994     0\n",
       "3997 -1.343565 -1.339740     0\n",
       "3998  0.504518  0.782109     1\n",
       "3999 -1.209042 -0.526577     0\n",
       "\n",
       "[4000 rows x 3 columns]"
      ]
     },
     "execution_count": 161,
     "metadata": {},
     "output_type": "execute_result"
    }
   ],
   "source": [
    "# 독립변수로 구성된 데이터프레임에 종속변수 속성을 추가 \n",
    "\n",
    "df_data[\"class\"] = target\n",
    "df_data"
   ]
  },
  {
   "cell_type": "code",
   "execution_count": 162,
   "metadata": {},
   "outputs": [
    {
     "name": "stdout",
     "output_type": "stream",
     "text": [
      "(2000, 2) (2000, 2) (2000,) (2000,)\n",
      "0    1791\n",
      "1     209\n",
      "Name: class, dtype: int64\n",
      "0    1792\n",
      "1     208\n",
      "Name: class, dtype: int64\n"
     ]
    }
   ],
   "source": [
    "# sklearn의 train_test_split 함수로 훈련용 데이터셋(70%)과 성능평가용 데이터셋(30) 분할 \n",
    "\n",
    "#  scikit-learn model_selection 모듈은 train_test_split 함수로 X_train, X_test, y_train, y_test 데이터셋을 분할\n",
    "\n",
    "# train_test_split(*arrays, test_size=None, train_size=None, random_state=None, shuffle=True, stratify=None,)\n",
    "#  - stratify : 층 구분 변수이름을 입력, 이때 각 층(stratum, group) 별로 나누어서 test_size 비율을 적용해서 추출 \n",
    "#  - test_size : test set의 비율 \n",
    "#  - shuffle=True : 무작위 추출(random sampling) / shuffle=False : 체계적 추출(systematic sampling) \n",
    "#  - random_state : 재현가능성을 위해서 난수 초기값으로 아무 숫자나 지정\n",
    "\n",
    "from sklearn.model_selection import train_test_split\n",
    "\n",
    "X_train, X_test, y_train, y_test = train_test_split(df_data.iloc[:, :-1], \n",
    "                                                    df_data.iloc[:, -1], \n",
    "                                                    test_size=0.5, \n",
    "                                                    shuffle=True,               # shuffle=True : 무작위 추출(random sampling)\n",
    "                                                    stratify=df_data['class'],  # stratify : 층 구분 변수이름 \n",
    "                                                    random_state=42)            # 데이터셋 분할결과를 반환 \n",
    "\n",
    "print(X_train.shape, X_test.shape, y_train.shape, y_test.shape)\n",
    "print(y_train.value_counts())\n",
    "print(y_test.value_counts())"
   ]
  },
  {
   "cell_type": "code",
   "execution_count": 163,
   "metadata": {},
   "outputs": [],
   "source": [
    "# 표준화 (StandardScaler)\n",
    "\n",
    "from sklearn.preprocessing import StandardScaler\n",
    "\n",
    "scaler = StandardScaler()\n",
    "X_train = scaler.fit_transform(X_train)\n",
    "X_test = scaler.transform(X_test)"
   ]
  },
  {
   "cell_type": "code",
   "execution_count": 164,
   "metadata": {},
   "outputs": [
    {
     "name": "stdout",
     "output_type": "stream",
     "text": [
      "[0 0 0 ... 0 0 0]\n"
     ]
    }
   ],
   "source": [
    "# 로지스틱회귀 모델을 생성 및 예측하기   \n",
    "\n",
    "from sklearn.linear_model import LogisticRegression\n",
    "\n",
    "model = LogisticRegression().fit(X_train, y_train)\n",
    "x_hat = model.predict(X_test)\n",
    "print(x_hat)   \n",
    "# [1 0 0 1 0 0 1 0 1 0 1 1 1 0 0 1 1 0 1 0]"
   ]
  },
  {
   "cell_type": "code",
   "execution_count": 165,
   "metadata": {},
   "outputs": [
    {
     "name": "stdout",
     "output_type": "stream",
     "text": [
      "[-4.10008967 -9.04498388 -4.78060236 ... -0.22573692 -6.23400232\n",
      " -3.65850903]\n"
     ]
    }
   ],
   "source": [
    "# 분류기에서 예측의 불확실성을 추정하는 함수는 decision_function()과 predict_proba() 크게 두 가지가 있다. \n",
    "#  - 대부분의 분류 클래스가 두 함수(최소 한개)를 제공한다.\n",
    "#  - 이진분류뿐만 아니라 다중 분류에도 사용할 수 있다.\n",
    "\n",
    "# decision_function() : 분류기에서 예측의 불확실성을 추정하는 함수이다. \n",
    "#  - 임의의 범위를 갖고 있다. \n",
    "#  - 불균형 데이터에서 임계값을 바꾸면 더 좋은 결과를 얻을 수 있지만 범위가 정해진 것이 아니기 때문에 최적의 임계점을 고르는게 쉽지 않다.\n",
    "#  - 이진 분류에서 decision_function 결과값은 n_samples이며 각 샘플이 하나의 실수 값을 반환한다.\n",
    "#  - 다중 분류에서 decision_function 의 결과값의 크기는 (n_samples, n_classes)이다. \n",
    "#  - 위의 결과는 샘플이 20개, 이진 분류이므로 decision_function 결과값은 20개이며 각 샘플이 하나의 실수 값을 반환한다. \n",
    "\n",
    "f_value = model.decision_function(X_test)\n",
    "print(f_value)\n",
    "#[ 0.48367038 -0.76380132 -0.93074418  6.06480007 -1.7032021  -1.13695011\n",
    "#  1.38691113 -1.98502227  3.29544344 -1.74286561  0.58063599  1.20116844\n",
    "#  1.71499282 -1.10505939 -2.00296387  0.53679248  2.95851366 -3.65762946\n",
    "#  2.66999382 -1.48393826]"
   ]
  },
  {
   "cell_type": "code",
   "execution_count": 166,
   "metadata": {},
   "outputs": [
    {
     "name": "stdout",
     "output_type": "stream",
     "text": [
      "[[9.83698939e-01 1.63010614e-02]\n",
      " [9.99882033e-01 1.17967446e-04]\n",
      " [9.91678879e-01 8.32112105e-03]\n",
      " ...\n",
      " [5.56195801e-01 4.43804199e-01]\n",
      " [9.98042255e-01 1.95774499e-03]\n",
      " [9.74876546e-01 2.51234536e-02]]\n",
      "[1. 1. 1. ... 1. 1. 1.]\n",
      "[0 0 0 ... 0 0 0]\n",
      "[0 0 0 ... 0 0 0]\n"
     ]
    }
   ],
   "source": [
    "# 분류기에서 예측의 불확실성을 추정하는 함수는 decision_function과 predict_proba 크게 두가지가 있다. \n",
    "#  - 대부분의 분류 클래스가 두 함수(최소 한개)를 제공한다.\n",
    "#  - 이진분류뿐만 아니라 다중 분류에도 사용할 수 있다.\n",
    "\n",
    "# predict_proba() 함수 : 0과 1 사이 값으로 범위가 고정되어 있기 때문에 임계값 선택이 더 쉽고 결정 함수에 비해 해석도 더 용이하다.\n",
    "#  - predict_proba() 함수 각 클래스에 대한 확률이며 decision_function 보다 이해하기 쉽다. \n",
    "#  - 확률값이기 때문에 항상 0과 1 사이의 값을 가지며 두 클래스의 확률 합은 항상 1이다. \n",
    "\n",
    "pp_value = model.predict_proba(X_test)\n",
    "print(pp_value)                         # predict_proba() 함수 각 클래스에 대한 확률 \n",
    "print(pp_value.sum(axis=1))             # 두 클래스의 함 \n",
    "print(np.argmax(pp_value, axis=1))      # 가장 큰 결정 함수의 인덱스 \n",
    "print(x_hat)                            # 예측값  "
   ]
  },
  {
   "cell_type": "code",
   "execution_count": 167,
   "metadata": {},
   "outputs": [
    {
     "data": {
      "text/html": [
       "<div>\n",
       "<style scoped>\n",
       "    .dataframe tbody tr th:only-of-type {\n",
       "        vertical-align: middle;\n",
       "    }\n",
       "\n",
       "    .dataframe tbody tr th {\n",
       "        vertical-align: top;\n",
       "    }\n",
       "\n",
       "    .dataframe thead th {\n",
       "        text-align: right;\n",
       "    }\n",
       "</style>\n",
       "<table border=\"1\" class=\"dataframe\">\n",
       "  <thead>\n",
       "    <tr style=\"text-align: right;\">\n",
       "      <th></th>\n",
       "      <th>f</th>\n",
       "      <th>x_hat</th>\n",
       "      <th>y_test</th>\n",
       "    </tr>\n",
       "  </thead>\n",
       "  <tbody>\n",
       "    <tr>\n",
       "      <th>0</th>\n",
       "      <td>6.171748</td>\n",
       "      <td>1.0</td>\n",
       "      <td>1.0</td>\n",
       "    </tr>\n",
       "    <tr>\n",
       "      <th>1</th>\n",
       "      <td>5.527739</td>\n",
       "      <td>1.0</td>\n",
       "      <td>1.0</td>\n",
       "    </tr>\n",
       "    <tr>\n",
       "      <th>2</th>\n",
       "      <td>5.453483</td>\n",
       "      <td>1.0</td>\n",
       "      <td>1.0</td>\n",
       "    </tr>\n",
       "    <tr>\n",
       "      <th>3</th>\n",
       "      <td>5.286011</td>\n",
       "      <td>1.0</td>\n",
       "      <td>1.0</td>\n",
       "    </tr>\n",
       "    <tr>\n",
       "      <th>4</th>\n",
       "      <td>4.009100</td>\n",
       "      <td>1.0</td>\n",
       "      <td>1.0</td>\n",
       "    </tr>\n",
       "    <tr>\n",
       "      <th>...</th>\n",
       "      <td>...</td>\n",
       "      <td>...</td>\n",
       "      <td>...</td>\n",
       "    </tr>\n",
       "    <tr>\n",
       "      <th>1995</th>\n",
       "      <td>-11.566463</td>\n",
       "      <td>0.0</td>\n",
       "      <td>0.0</td>\n",
       "    </tr>\n",
       "    <tr>\n",
       "      <th>1996</th>\n",
       "      <td>-11.680501</td>\n",
       "      <td>0.0</td>\n",
       "      <td>0.0</td>\n",
       "    </tr>\n",
       "    <tr>\n",
       "      <th>1997</th>\n",
       "      <td>-11.793840</td>\n",
       "      <td>0.0</td>\n",
       "      <td>0.0</td>\n",
       "    </tr>\n",
       "    <tr>\n",
       "      <th>1998</th>\n",
       "      <td>-11.829542</td>\n",
       "      <td>0.0</td>\n",
       "      <td>0.0</td>\n",
       "    </tr>\n",
       "    <tr>\n",
       "      <th>1999</th>\n",
       "      <td>-14.003392</td>\n",
       "      <td>0.0</td>\n",
       "      <td>0.0</td>\n",
       "    </tr>\n",
       "  </tbody>\n",
       "</table>\n",
       "<p>2000 rows × 3 columns</p>\n",
       "</div>"
      ],
      "text/plain": [
       "              f  x_hat  y_test\n",
       "0      6.171748    1.0     1.0\n",
       "1      5.527739    1.0     1.0\n",
       "2      5.453483    1.0     1.0\n",
       "3      5.286011    1.0     1.0\n",
       "4      4.009100    1.0     1.0\n",
       "...         ...    ...     ...\n",
       "1995 -11.566463    0.0     0.0\n",
       "1996 -11.680501    0.0     0.0\n",
       "1997 -11.793840    0.0     0.0\n",
       "1998 -11.829542    0.0     0.0\n",
       "1999 -14.003392    0.0     0.0\n",
       "\n",
       "[2000 rows x 3 columns]"
      ]
     },
     "execution_count": 167,
     "metadata": {},
     "output_type": "execute_result"
    }
   ],
   "source": [
    "import pandas as pd\n",
    "import numpy as np\n",
    "\n",
    "df = pd.DataFrame(np.vstack([f_value, x_hat, y_test]).T, columns=[\"f\", \"x_hat\", \"y_test\"])\n",
    "df.sort_values(\"f\", ascending=False).reset_index(drop=True)"
   ]
  },
  {
   "cell_type": "code",
   "execution_count": 168,
   "metadata": {},
   "outputs": [
    {
     "data": {
      "text/plain": [
       "array([[1744,   48],\n",
       "       [  89,  119]], dtype=int64)"
      ]
     },
     "execution_count": 168,
     "metadata": {},
     "output_type": "execute_result"
    }
   ],
   "source": [
    "# 이진 분류 결과 \n",
    "\n",
    "from sklearn.metrics import confusion_matrix\n",
    "\n",
    "confusion_matrix(y_test, x_hat, labels=[0, 1])\n",
    "# array([[15,  0],\n",
    "#        [ 2, 13]], dtype=int64)"
   ]
  },
  {
   "cell_type": "code",
   "execution_count": 169,
   "metadata": {},
   "outputs": [
    {
     "data": {
      "image/png": "[encoded data removed]",
      "text/plain": [
       "<Figure size 640x480 with 2 Axes>"
      ]
     },
     "metadata": {
      "image/png": {
       "height": 455,
       "width": 510
      }
     },
     "output_type": "display_data"
    }
   ],
   "source": [
    "# scikit-plot을 이용하면 confusion matrix를 좀 더 직관적인 heatmap으로 시각화한다. \n",
    "# scikit-learn에서는 가로축과 세로축의 라벨이 없었던 반면에 scikit-plot은 축 라벨이 있어서 결과를 해석하기가 좀 더 용이하다.\n",
    "\n",
    "import scikitplot as skplt\n",
    "\n",
    "skplt.metrics.plot_confusion_matrix(y_test, x_hat)\n",
    "plt.show()"
   ]
  },
  {
   "cell_type": "code",
   "execution_count": 179,
   "metadata": {},
   "outputs": [
    {
     "data": {
      "text/plain": [
       "0.5721153846153846"
      ]
     },
     "execution_count": 179,
     "metadata": {},
     "output_type": "execute_result"
    }
   ],
   "source": [
    "# 재현율(recall) = TP / (TP+FN), 위양성율(fall-out) = FP / (FP+TN) 계산 \n",
    "\n",
    "from sklearn.metrics import recall_score\n",
    "\n",
    "# average 기본값은 binary이며 다중 분류일 때는 binary가 아니어야 함\n",
    "recalls = recall_score(y_test, x_hat)\n",
    "recalls                    # 0.5721153846153846"
   ]
  },
  {
   "cell_type": "code",
   "execution_count": 180,
   "metadata": {},
   "outputs": [
    {
     "name": "stdout",
     "output_type": "stream",
     "text": [
      "              precision    recall  f1-score   support\n",
      "\n",
      "           0       0.95      0.97      0.96      1792\n",
      "           1       0.71      0.57      0.63       208\n",
      "\n",
      "    accuracy                           0.93      2000\n",
      "   macro avg       0.83      0.77      0.80      2000\n",
      "weighted avg       0.93      0.93      0.93      2000\n",
      "\n"
     ]
    }
   ],
   "source": [
    "# classification_report\n",
    "\n",
    "from sklearn.metrics import classification_report\n",
    "\n",
    "print(classification_report(y_test, model.predict(X_test)))"
   ]
  },
  {
   "cell_type": "markdown",
   "metadata": {},
   "source": [
    "## 로지스틱 회귀(Logistic Regression) 모델, 서포트 벡터 머신(SVC) 모델  성능 비교  "
   ]
  },
  {
   "cell_type": "code",
   "execution_count": 174,
   "metadata": {},
   "outputs": [
    {
     "name": "stdout",
     "output_type": "stream",
     "text": [
      "[[1755   37]\n",
      " [ 101  107]]\n"
     ]
    }
   ],
   "source": [
    "# 서포트 벡터 머신(SVC) 모델 \n",
    "\n",
    "from sklearn.svm import SVC\n",
    "\n",
    "model2 = SVC(gamma=0.0001, C=3000, probability=True).fit(X_train, y_train)\n",
    "x_hat2 = model2.predict(X_test)\n",
    "\n",
    "print(confusion_matrix(y_test, x_hat2))\n",
    "#[[940   3]\n",
    "# [ 30  27]]"
   ]
  },
  {
   "cell_type": "code",
   "execution_count": 175,
   "metadata": {},
   "outputs": [
    {
     "name": "stdout",
     "output_type": "stream",
     "text": [
      "              precision    recall  f1-score   support\n",
      "\n",
      "           0       0.95      0.98      0.96      1792\n",
      "           1       0.74      0.51      0.61       208\n",
      "\n",
      "    accuracy                           0.93      2000\n",
      "   macro avg       0.84      0.75      0.79      2000\n",
      "weighted avg       0.92      0.93      0.93      2000\n",
      "\n"
     ]
    }
   ],
   "source": [
    "# classification_report\n",
    "\n",
    "from sklearn.metrics import classification_report\n",
    "\n",
    "print(classification_report(y_test, model2.predict(X_test)))"
   ]
  },
  {
   "cell_type": "code",
   "execution_count": 176,
   "metadata": {},
   "outputs": [
    {
     "data": {
      "image/png": "[encoded data removed]",
      "text/plain": [
       "<Figure size 640x480 with 1 Axes>"
      ]
     },
     "metadata": {
      "image/png": {
       "height": 455,
       "width": 564
      }
     },
     "output_type": "display_data"
    }
   ],
   "source": [
    "# ROC 곡선 비교 \n",
    "# 사이킷런 패키지에서 만들어진 모형은 기본적으로 정확도(accuracy)를 최대화하는 모형임\n",
    "# 하지만 정확도, 정밀도, 재현율 등의 성능이 동일한 모형도 ROC 커브에서 살펴보면 성능이 달라지는 것을 볼 수 있음\n",
    "\n",
    "from sklearn.metrics import roc_curve  \n",
    "import matplotlib.pyplot as plt\n",
    "\n",
    "fpr1, tpr1, thresholds1 = roc_curve(y_test, model.decision_function(X_test))\n",
    "fpr2, tpr2, thresholds1 = roc_curve(y_test, model2.decision_function(X_test))\n",
    "\n",
    "plt.rcParams[\"font.family\"] = 'Malgun Gothic'\n",
    "plt.plot(fpr1, tpr1, 'o-', ms=2, label=\"Logistic Regression\")\n",
    "plt.plot(fpr2, tpr2, 'o-', ms=2, label=\"Kernel SVM\")\n",
    "plt.legend()\n",
    "plt.plot([0, 1], [0, 1], 'k--', label=\"random guess\")\n",
    "plt.xlabel('위양성율(Fall-Out)')\n",
    "plt.ylabel('재현율(Recall)')\n",
    "plt.title('ROC 커브')\n",
    "plt.show()"
   ]
  },
  {
   "cell_type": "code",
   "execution_count": null,
   "metadata": {},
   "outputs": [],
   "source": []
  },
  {
   "cell_type": "code",
   "execution_count": null,
   "metadata": {},
   "outputs": [],
   "source": []
  }
 ],
 "metadata": {
  "kernelspec": {
   "display_name": "Python 3 (ipykernel)",
   "language": "python",
   "name": "python3"
  },
  "language_info": {
   "codemirror_mode": {
    "name": "ipython",
    "version": 3
   },
   "file_extension": ".py",
   "mimetype": "text/x-python",
   "name": "python",
   "nbconvert_exporter": "python",
   "pygments_lexer": "ipython3",
   "version": "3.11.7"
  }
 },
 "nbformat": 4,
 "nbformat_minor": 4
}
