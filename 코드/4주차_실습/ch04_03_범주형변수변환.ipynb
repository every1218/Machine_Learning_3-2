{
 "cells": [
  {
   "attachments": {},
   "cell_type": "markdown",
   "id": "b832c124-078a-423e-987f-2bb7486f46ab",
   "metadata": {},
   "source": [
    "# 기계학습"
   ]
  },
  {
   "cell_type": "markdown",
   "id": "8c091905-a79b-4764-8454-0554d89c34a0",
   "metadata": {},
   "source": [
    "### 담당교수 : 장원중"
   ]
  },
  {
   "cell_type": "code",
   "execution_count": 1,
   "id": "c85f448c-2410-49ed-8135-75e5935d284f",
   "metadata": {},
   "outputs": [],
   "source": [
    "# 그래프 한글이 깨질때 & 마이너스 부호 사용\n",
    "\n",
    "import sys, os\n",
    "from matplotlib import font_manager, rc \n",
    "import matplotlib.pyplot as plt\n",
    "\n",
    "# 한글 폰트 설정 : 윈도우 폰트를 사용하는 경우 \n",
    "font_name = font_manager.FontProperties(fname=\"c:/Windows/Fonts/malgun.ttf\").get_name()\n",
    "rc('font', family=font_name) \n",
    "\n",
    "# 운영체제별 한글 폰트 설정\n",
    "# if os.name == 'posix': # Mac 환경 폰트 설정\n",
    "#     rc('font', family='AppleGothic')\n",
    "# elif os.name == 'nt': # Windows 환경 폰트 설정\n",
    "#     rc('font', family='Malgun Gothic')\n",
    "\n",
    "plt.rc('axes', unicode_minus=False) # 마이너스 폰트 설정\n",
    "\n",
    "# 유니코드에서 음수 부호설정\n",
    "rc('axes', unicode_minus=False)\n",
    "\n",
    "# 부모 디렉터리의 파일을 가져올 수 있도록 설정\n",
    "sys.path.append(os.pardir)     \n",
    "\n",
    "# jupyter에서 matplotlib 그래프를 출력 영역에 표시  \n",
    "%matplotlib inline \n",
    "\n",
    "# 레티나 설정 - 폰트 주변이 흐릿하게 보이는 것을 방지해 글씨가 좀 더 선명하게 보임\n",
    "%config InlineBackend.figure_format = 'retina'"
   ]
  },
  {
   "cell_type": "code",
   "execution_count": 2,
   "id": "beb69d34-1490-4f21-98b4-de8ec455625d",
   "metadata": {},
   "outputs": [
    {
     "data": {
      "text/plain": [
       "'Windows'"
      ]
     },
     "execution_count": 2,
     "metadata": {},
     "output_type": "execute_result"
    }
   ],
   "source": [
    "# 운영체제별 이름 \n",
    "\n",
    "import platform\n",
    "\n",
    "platform.system()"
   ]
  },
  {
   "cell_type": "code",
   "execution_count": 3,
   "id": "cf1855c9-73a3-4332-8f69-28b65f37f705",
   "metadata": {},
   "outputs": [
    {
     "name": "stdout",
     "output_type": "stream",
     "text": [
      "--sys.version—\n",
      "3.11.7 | packaged by Anaconda, Inc. | (main, Dec 15 2023, 18:05:47) [MSC v.1916 64 bit (AMD64)]\n",
      "--python_version—\n",
      "3.11.7\n"
     ]
    }
   ],
   "source": [
    "# 파이썬 버전 확인\n",
    "\n",
    "import sys\n",
    "import platform\n",
    "\n",
    "print(\"--sys.version—\")\n",
    "print(sys.version)\n",
    "\n",
    "print(\"--python_version—\")\n",
    "print(platform.python_version())"
   ]
  },
  {
   "cell_type": "markdown",
   "id": "10344296-8e07-4437-a779-aa9dc7f1f6fa",
   "metadata": {},
   "source": [
    "# 범주형 변수 변환"
   ]
  },
  {
   "attachments": {},
   "cell_type": "markdown",
   "id": "ca62f093-4722-4938-a982-67c35894d0f1",
   "metadata": {},
   "source": [
    "## 원핫인코딩(One-hot-encoding) with get_dummies, OneHotEncoder, ColumnTransformer"
   ]
  },
  {
   "cell_type": "code",
   "execution_count": 4,
   "id": "d726424e-b29b-46ce-a4e9-add4db7f6bda",
   "metadata": {},
   "outputs": [],
   "source": [
    "# 라이브러리 읽어오기 \n",
    "\n",
    "import pandas as pd\n",
    "import numpy as np\n",
    "import matplotlib.pyplot as plt\n",
    "import seaborn as sns\n",
    "import os "
   ]
  },
  {
   "cell_type": "code",
   "execution_count": 28,
   "id": "292f4dbc-ac5d-4f3e-88c6-758452595a9b",
   "metadata": {},
   "outputs": [
    {
     "name": "stdout",
     "output_type": "stream",
     "text": [
      "(90, 4)\n"
     ]
    },
    {
     "data": {
      "text/html": [
       "<div>\n",
       "<style scoped>\n",
       "    .dataframe tbody tr th:only-of-type {\n",
       "        vertical-align: middle;\n",
       "    }\n",
       "\n",
       "    .dataframe tbody tr th {\n",
       "        vertical-align: top;\n",
       "    }\n",
       "\n",
       "    .dataframe thead th {\n",
       "        text-align: right;\n",
       "    }\n",
       "</style>\n",
       "<table border=\"1\" class=\"dataframe\">\n",
       "  <thead>\n",
       "    <tr style=\"text-align: right;\">\n",
       "      <th></th>\n",
       "      <th>no</th>\n",
       "      <th>sex</th>\n",
       "      <th>weight_kg</th>\n",
       "      <th>height_cm</th>\n",
       "    </tr>\n",
       "  </thead>\n",
       "  <tbody>\n",
       "    <tr>\n",
       "      <th>0</th>\n",
       "      <td>1</td>\n",
       "      <td>m</td>\n",
       "      <td>98</td>\n",
       "      <td>198</td>\n",
       "    </tr>\n",
       "    <tr>\n",
       "      <th>1</th>\n",
       "      <td>2</td>\n",
       "      <td>m</td>\n",
       "      <td>77</td>\n",
       "      <td>170</td>\n",
       "    </tr>\n",
       "    <tr>\n",
       "      <th>2</th>\n",
       "      <td>3</td>\n",
       "      <td>m</td>\n",
       "      <td>70</td>\n",
       "      <td>170</td>\n",
       "    </tr>\n",
       "    <tr>\n",
       "      <th>3</th>\n",
       "      <td>4</td>\n",
       "      <td>m</td>\n",
       "      <td>90</td>\n",
       "      <td>198</td>\n",
       "    </tr>\n",
       "    <tr>\n",
       "      <th>4</th>\n",
       "      <td>5</td>\n",
       "      <td>m</td>\n",
       "      <td>71</td>\n",
       "      <td>170</td>\n",
       "    </tr>\n",
       "    <tr>\n",
       "      <th>5</th>\n",
       "      <td>6</td>\n",
       "      <td>m</td>\n",
       "      <td>70</td>\n",
       "      <td>165</td>\n",
       "    </tr>\n",
       "    <tr>\n",
       "      <th>6</th>\n",
       "      <td>7</td>\n",
       "      <td>m</td>\n",
       "      <td>73</td>\n",
       "      <td>193</td>\n",
       "    </tr>\n",
       "    <tr>\n",
       "      <th>7</th>\n",
       "      <td>8</td>\n",
       "      <td>m</td>\n",
       "      <td>59</td>\n",
       "      <td>142</td>\n",
       "    </tr>\n",
       "    <tr>\n",
       "      <th>8</th>\n",
       "      <td>9</td>\n",
       "      <td>m</td>\n",
       "      <td>68</td>\n",
       "      <td>137</td>\n",
       "    </tr>\n",
       "    <tr>\n",
       "      <th>9</th>\n",
       "      <td>10</td>\n",
       "      <td>m</td>\n",
       "      <td>86</td>\n",
       "      <td>155</td>\n",
       "    </tr>\n",
       "  </tbody>\n",
       "</table>\n",
       "</div>"
      ],
      "text/plain": [
       "   no sex  weight_kg  height_cm\n",
       "0   1   m         98        198\n",
       "1   2   m         77        170\n",
       "2   3   m         70        170\n",
       "3   4   m         90        198\n",
       "4   5   m         71        170\n",
       "5   6   m         70        165\n",
       "6   7   m         73        193\n",
       "7   8   m         59        142\n",
       "8   9   m         68        137\n",
       "9  10   m         86        155"
      ]
     },
     "execution_count": 28,
     "metadata": {},
     "output_type": "execute_result"
    }
   ],
   "source": [
    "# 데이터 읽어오기 \n",
    "data = pd.read_csv(os.getcwd()+'/student90.csv')\n",
    "\n",
    "# 데이터의 형상 \n",
    "# - shape 속성 : 데이터의 (행, 열) 크기를 확인 \n",
    "print(data.shape)   # (90, 4)\n",
    "data[:10]           # 10행 출력 "
   ]
  },
  {
   "cell_type": "code",
   "execution_count": 30,
   "id": "9d423122-c489-4f2b-bac2-22cf126c8a83",
   "metadata": {},
   "outputs": [
    {
     "name": "stdout",
     "output_type": "stream",
     "text": [
      "(90, 154)\n",
      "[[1. 0. 0. 0. 0. 0. 0. 0. 0. 0. 0. 0. 0. 0. 0. 0. 0. 0. 0. 0. 0. 0. 0. 0.\n",
      "  0. 0. 0. 0. 0. 0. 0. 0. 0. 0. 0. 0. 0. 0. 0. 0. 0. 0. 0. 0. 0. 0. 0. 0.\n",
      "  0. 0. 0. 0. 0. 0. 0. 0. 0. 0. 0. 0. 0. 0. 0. 0. 0. 0. 0. 0. 0. 0. 0. 0.\n",
      "  0. 0. 0. 0. 0. 0. 0. 0. 0. 0. 0. 0. 0. 0. 0. 0. 0. 0. 0. 1. 0. 0. 0. 0.\n",
      "  0. 0. 0. 0. 0. 0. 0. 0. 0. 0. 0. 0. 0. 0. 0. 0. 0. 0. 0. 0. 0. 0. 0. 0.\n",
      "  0. 0. 0. 0. 0. 0. 0. 1. 0. 0. 0. 0. 0. 0. 0. 0. 0. 0. 0. 0. 0. 0. 0. 0.\n",
      "  0. 0. 0. 0. 0. 0. 0. 0. 0. 1.]]\n",
      "['no_1' 'no_2' 'no_3' 'no_4' 'no_5' 'no_6' 'no_7' 'no_8' 'no_9' 'no_10'\n",
      " 'no_11' 'no_12' 'no_13' 'no_14' 'no_15' 'no_16' 'no_17' 'no_18' 'no_19'\n",
      " 'no_20' 'no_21' 'no_22' 'no_23' 'no_24' 'no_25' 'no_26' 'no_27' 'no_28'\n",
      " 'no_29' 'no_30' 'no_31' 'no_32' 'no_35' 'no_36' 'no_37' 'no_38' 'no_39'\n",
      " 'no_40' 'no_41' 'no_42' 'no_43' 'no_44' 'no_45' 'no_46' 'no_47' 'no_48'\n",
      " 'no_49' 'no_50' 'no_51' 'no_52' 'no_53' 'no_54' 'no_55' 'no_56' 'no_57'\n",
      " 'no_58' 'no_59' 'no_60' 'no_61' 'no_62' 'no_63' 'no_64' 'no_65' 'no_66'\n",
      " 'no_67' 'no_68' 'no_69' 'no_70' 'no_71' 'no_72' 'no_73' 'no_74' 'no_75'\n",
      " 'no_76' 'no_77' 'no_78' 'no_79' 'no_80' 'no_81' 'no_82' 'no_83' 'no_84'\n",
      " 'no_85' 'no_86' 'no_87' 'no_88' 'no_89' 'no_90' 'no_91' 'no_92' 'sex_f'\n",
      " 'sex_m' 'weight_kg_43' 'weight_kg_46' 'weight_kg_49' 'weight_kg_50'\n",
      " 'weight_kg_51' 'weight_kg_52' 'weight_kg_53' 'weight_kg_54'\n",
      " 'weight_kg_55' 'weight_kg_56' 'weight_kg_57' 'weight_kg_59'\n",
      " 'weight_kg_60' 'weight_kg_61' 'weight_kg_62' 'weight_kg_63'\n",
      " 'weight_kg_64' 'weight_kg_66' 'weight_kg_67' 'weight_kg_68'\n",
      " 'weight_kg_69' 'weight_kg_70' 'weight_kg_71' 'weight_kg_73'\n",
      " 'weight_kg_74' 'weight_kg_75' 'weight_kg_77' 'weight_kg_79'\n",
      " 'weight_kg_80' 'weight_kg_82' 'weight_kg_84' 'weight_kg_86'\n",
      " 'weight_kg_88' 'weight_kg_89' 'weight_kg_90' 'weight_kg_98'\n",
      " 'weight_kg_100' 'weight_kg_101' 'weight_kg_110' 'height_cm_132'\n",
      " 'height_cm_135' 'height_cm_137' 'height_cm_140' 'height_cm_142'\n",
      " 'height_cm_147' 'height_cm_150' 'height_cm_152' 'height_cm_155'\n",
      " 'height_cm_156' 'height_cm_160' 'height_cm_161' 'height_cm_162'\n",
      " 'height_cm_163' 'height_cm_165' 'height_cm_166' 'height_cm_168'\n",
      " 'height_cm_170' 'height_cm_171' 'height_cm_180' 'height_cm_190'\n",
      " 'height_cm_193' 'height_cm_198']\n"
     ]
    }
   ],
   "source": [
    "# OneHotEncoder 클래스를 이용한 원핫인코딩 \n",
    "# - OneHotEncoder 클래스는 모든 특성을 범주형이라고 가정하여 수치형 열을 포함한 모든 열에 인코딩을 수행함\n",
    "# - sparse_output=False : transform을 이용하여 바로 변환 결과를 얻을 경우\n",
    "\n",
    "from sklearn.preprocessing import OneHotEncoder \n",
    "\n",
    "# 준비 \n",
    "ohe = OneHotEncoder(sparse_output=False)  \n",
    "\n",
    "# 인코딩\n",
    "data_ohe = ohe.fit_transform(data) \n",
    "feature_names = ohe.get_feature_names_out()  # feature names 추출 \n",
    "\n",
    "print(data_ohe.shape)  # 형상 출력 \n",
    "print(data_ohe[:1,:])  # 1행 출력  \n",
    "print(feature_names)   # feature names 출력     "
   ]
  },
  {
   "cell_type": "code",
   "execution_count": 31,
   "id": "fd996da5-837d-4089-add8-3bdca06f2f05",
   "metadata": {},
   "outputs": [
    {
     "name": "stdout",
     "output_type": "stream",
     "text": [
      "(90, 4)\n",
      "[[1.99325723 1.75590438 0.         1.        ]]\n",
      "['scaling__weight_kg' 'scaling__height_cm' 'onehot__sex_f' 'onehot__sex_m']\n"
     ]
    }
   ],
   "source": [
    "# ColumnTransformer 클래스를 이용한 원핫인코딩 \n",
    "# - ColumnTransformer 클래스는 범주형 변수에는 원핫인코딩, 수치형 변수에는 스케일링을 적용함\n",
    "\n",
    "from sklearn.compose import ColumnTransformer  \n",
    "from sklearn.preprocessing import OneHotEncoder \n",
    "from sklearn.preprocessing import StandardScaler  \n",
    "\n",
    "# 준비 \n",
    "ct = ColumnTransformer([\n",
    "    ('scaling', StandardScaler(), ['weight_kg',\t'height_cm']),\n",
    "    ('onehot', OneHotEncoder(sparse_output=False), ['sex'])\n",
    "])\n",
    "\n",
    "# 인코딩\n",
    "data_ct = ct.fit_transform(data)\n",
    "feature_names = ct.get_feature_names_out()  # feature names 추출 \n",
    "\n",
    "print(data_ct.shape)   # 형상 출력 \n",
    "print(data_ct[:1,:])   # 1행 출력  \n",
    "print(feature_names)   # feature names 출력     "
   ]
  },
  {
   "cell_type": "code",
   "execution_count": 32,
   "id": "c2756f93-7ef7-4657-b3ee-32ab92bea41a",
   "metadata": {},
   "outputs": [
    {
     "name": "stdout",
     "output_type": "stream",
     "text": [
      "['no', 'sex', 'weight_kg', 'height_cm'] (90, 4)\n",
      "['no', 'weight_kg', 'height_cm', 'sex_f', 'sex_m'] (90, 5)\n",
      "   no  weight_kg  height_cm  sex_f  sex_m\n",
      "0   1         98        198      0      1\n",
      "1   2         77        170      0      1\n",
      "2   3         70        170      0      1\n",
      "3   4         90        198      0      1\n",
      "4   5         71        170      0      1\n",
      "--------------------------------------------------\n",
      "['no', 'weight_kg', 'height_cm', 'sex_m'] (90, 4)\n",
      "   no  weight_kg  height_cm  sex_m\n",
      "0   1         98        198      1\n",
      "1   2         77        170      1\n",
      "2   3         70        170      1\n",
      "3   4         90        198      1\n",
      "4   5         71        170      1\n"
     ]
    }
   ],
   "source": [
    "# 더미코딩 (Dummy coding) with get_dummies(drop_first=True)\n",
    "# - 범주형 변수의 레벨이 n개 일때 해당 레벨 개수만큼 가변수를 만들면 다중공선성이 생기기 때문에 이를 방지하기 위해 n-1개의 가변수를 만드는 방법을 쓰는 것이 더미코딩\n",
    "\n",
    "# 원핫인코딩 \n",
    "dummies = pd.get_dummies(data)    \n",
    "print(list(data.columns), data.shape)        # 원래 데이터 \n",
    "print(list(dummies.columns), dummies.shape)  # 원핫인코딩된 데이터 \n",
    "print(dummies[:5])                           # 원핫인코딩된 데이터 5행 출력 \n",
    "\n",
    "print('-'*50)\n",
    "\n",
    "# 더미코딩 \n",
    "dummies2 = pd.get_dummies(data, drop_first=True)\n",
    "print(list(dummies2.columns), dummies2.shape)  # 더미코딩된 데이터  \n",
    "print(dummies2[:5])                            # 더미코딩된 데이터 5행 출력  "
   ]
  },
  {
   "attachments": {},
   "cell_type": "markdown",
   "id": "00e86e1f-5370-4a4d-b4b7-1b72ba53ad4a",
   "metadata": {},
   "source": [
    "# 레이블 인코딩(Label encoding) with LabelEncoder"
   ]
  },
  {
   "cell_type": "code",
   "execution_count": 37,
   "id": "c4ce5697-1ab1-45d9-ac49-3aa4f2200039",
   "metadata": {},
   "outputs": [
    {
     "data": {
      "text/html": [
       "<div>\n",
       "<style scoped>\n",
       "    .dataframe tbody tr th:only-of-type {\n",
       "        vertical-align: middle;\n",
       "    }\n",
       "\n",
       "    .dataframe tbody tr th {\n",
       "        vertical-align: top;\n",
       "    }\n",
       "\n",
       "    .dataframe thead th {\n",
       "        text-align: right;\n",
       "    }\n",
       "</style>\n",
       "<table border=\"1\" class=\"dataframe\">\n",
       "  <thead>\n",
       "    <tr style=\"text-align: right;\">\n",
       "      <th></th>\n",
       "      <th>grade</th>\n",
       "      <th>class</th>\n",
       "    </tr>\n",
       "  </thead>\n",
       "  <tbody>\n",
       "    <tr>\n",
       "      <th>0</th>\n",
       "      <td>A</td>\n",
       "      <td>H</td>\n",
       "    </tr>\n",
       "    <tr>\n",
       "      <th>1</th>\n",
       "      <td>B</td>\n",
       "      <td>M</td>\n",
       "    </tr>\n",
       "    <tr>\n",
       "      <th>2</th>\n",
       "      <td>C</td>\n",
       "      <td>L</td>\n",
       "    </tr>\n",
       "    <tr>\n",
       "      <th>3</th>\n",
       "      <td>D</td>\n",
       "      <td>H</td>\n",
       "    </tr>\n",
       "  </tbody>\n",
       "</table>\n",
       "</div>"
      ],
      "text/plain": [
       "  grade class\n",
       "0     A     H\n",
       "1     B     M\n",
       "2     C     L\n",
       "3     D     H"
      ]
     },
     "execution_count": 37,
     "metadata": {},
     "output_type": "execute_result"
    }
   ],
   "source": [
    "std_card = pd.DataFrame({\n",
    "    'grade': ['A', 'B', 'C', 'D'],\n",
    "    'class': ['H', 'M', 'L', 'H']    \n",
    "})\n",
    "\n",
    "std_card"
   ]
  },
  {
   "cell_type": "code",
   "execution_count": 48,
   "id": "7847f1a4-d2c6-4193-9600-43218728aab6",
   "metadata": {},
   "outputs": [
    {
     "name": "stdout",
     "output_type": "stream",
     "text": [
      "[0 1 2 3]\n",
      "['A' 'B' 'C' 'D']\n",
      "['A' 'B' 'C' 'D']\n"
     ]
    }
   ],
   "source": [
    "# grade 변수 레이블인코딩 \n",
    "\n",
    "from sklearn.preprocessing import LabelEncoder \n",
    "\n",
    "le = LabelEncoder() \n",
    "grade_le = le.fit_transform(std_card['grade']) # 레이블인코딩 \n",
    "print(grade_le)\n",
    "print(le.classes_)                    # 변환된 label classes 확인 \n",
    "print(le.inverse_transform(grade_le)) # 역변환  "
   ]
  },
  {
   "cell_type": "code",
   "execution_count": 49,
   "id": "1f80c790-6b3a-42d8-9470-e856b1af375f",
   "metadata": {},
   "outputs": [
    {
     "name": "stdout",
     "output_type": "stream",
     "text": [
      "[0 2 1 0]\n",
      "['H' 'L' 'M']\n",
      "['H' 'M' 'L' 'H']\n"
     ]
    }
   ],
   "source": [
    "# class 변수 레이블인코딩 \n",
    "\n",
    "class_le = le.fit_transform(std_card['class']) # 레이블인코딩\n",
    "print(class_le)\n",
    "print(le.classes_)                    # 변환된 label classes 확인 \n",
    "print(le.inverse_transform(class_le)) # 역변환  "
   ]
  },
  {
   "cell_type": "code",
   "execution_count": 50,
   "id": "cf388b47-1011-4a57-aaf1-f8984d847188",
   "metadata": {},
   "outputs": [],
   "source": [
    "# grade, class 두 개의 변수를 레이블인코딩 \n",
    "\n",
    "from sklearn.preprocessing import LabelEncoder \n",
    "\n",
    "std_card_le = pd.DataFrame() \n",
    "for col in std_card.columns:\n",
    "    le = LabelEncoder()\n",
    "    std_card_le[col] = le.fit_transform(std_card[col])"
   ]
  },
  {
   "cell_type": "code",
   "execution_count": 51,
   "id": "b3730b32-c46c-444b-be5c-e8cb0b2accc1",
   "metadata": {},
   "outputs": [
    {
     "data": {
      "text/html": [
       "<div>\n",
       "<style scoped>\n",
       "    .dataframe tbody tr th:only-of-type {\n",
       "        vertical-align: middle;\n",
       "    }\n",
       "\n",
       "    .dataframe tbody tr th {\n",
       "        vertical-align: top;\n",
       "    }\n",
       "\n",
       "    .dataframe thead th {\n",
       "        text-align: right;\n",
       "    }\n",
       "</style>\n",
       "<table border=\"1\" class=\"dataframe\">\n",
       "  <thead>\n",
       "    <tr style=\"text-align: right;\">\n",
       "      <th></th>\n",
       "      <th>grade</th>\n",
       "      <th>class</th>\n",
       "    </tr>\n",
       "  </thead>\n",
       "  <tbody>\n",
       "    <tr>\n",
       "      <th>0</th>\n",
       "      <td>0</td>\n",
       "      <td>0</td>\n",
       "    </tr>\n",
       "    <tr>\n",
       "      <th>1</th>\n",
       "      <td>1</td>\n",
       "      <td>2</td>\n",
       "    </tr>\n",
       "    <tr>\n",
       "      <th>2</th>\n",
       "      <td>2</td>\n",
       "      <td>1</td>\n",
       "    </tr>\n",
       "    <tr>\n",
       "      <th>3</th>\n",
       "      <td>3</td>\n",
       "      <td>0</td>\n",
       "    </tr>\n",
       "  </tbody>\n",
       "</table>\n",
       "</div>"
      ],
      "text/plain": [
       "   grade  class\n",
       "0      0      0\n",
       "1      1      2\n",
       "2      2      1\n",
       "3      3      0"
      ]
     },
     "execution_count": 51,
     "metadata": {},
     "output_type": "execute_result"
    }
   ],
   "source": [
    "std_card_le"
   ]
  },
  {
   "attachments": {},
   "cell_type": "markdown",
   "id": "d136a09c-3e92-42dd-915a-10469331ac2f",
   "metadata": {},
   "source": [
    "# 구간 분할(Binning) with cut, KBinsDiscretizer"
   ]
  },
  {
   "cell_type": "code",
   "execution_count": 65,
   "id": "5f8d613f-0713-4ed3-8c5b-6c8beef24e13",
   "metadata": {},
   "outputs": [
    {
     "data": {
      "text/plain": [
       "(56.4, 69.8]      32\n",
       "(69.8, 83.2]      29\n",
       "(42.933, 56.4]    14\n",
       "(83.2, 96.6]       9\n",
       "(96.6, 110.0]      6\n",
       "Name: weight_kg, dtype: int64"
      ]
     },
     "execution_count": 65,
     "metadata": {},
     "output_type": "execute_result"
    }
   ],
   "source": [
    "# 판다스의 cut 함수 \n",
    "# - bin 수 지정\n",
    "# - 레이블 지정하지 않음  \n",
    "\n",
    "from pandas import cut \n",
    "\n",
    "binned_weight = cut(data['weight_kg'], 5)  # bin수 지정 \n",
    "binned_weight.value_counts()"
   ]
  },
  {
   "cell_type": "code",
   "execution_count": 66,
   "id": "b311bf41-d117-4df4-af4c-425bcf26dc54",
   "metadata": {},
   "outputs": [
    {
     "name": "stdout",
     "output_type": "stream",
     "text": [
      "90\n",
      "0    (96.6, 110.0]\n",
      "1     (69.8, 83.2]\n",
      "2     (69.8, 83.2]\n",
      "3     (83.2, 96.6]\n",
      "4     (69.8, 83.2]\n",
      "Name: weight_kg, dtype: category\n",
      "Categories (5, interval[float64, right]): [(42.933, 56.4] < (56.4, 69.8] < (69.8, 83.2] < (83.2, 96.6] < (96.6, 110.0]]\n"
     ]
    }
   ],
   "source": [
    "print(len(binned_weight))\n",
    "print(binned_weight.head(5))"
   ]
  },
  {
   "cell_type": "code",
   "execution_count": 67,
   "id": "f387f759-e3cf-4dba-a4a4-6f0c60fedd7d",
   "metadata": {},
   "outputs": [
    {
     "data": {
      "text/plain": [
       "B    32\n",
       "C    29\n",
       "A    14\n",
       "D     9\n",
       "E     6\n",
       "Name: weight_kg, dtype: int64"
      ]
     },
     "execution_count": 67,
     "metadata": {},
     "output_type": "execute_result"
    }
   ],
   "source": [
    "# 판다스의 cut 함수 \n",
    "# - bin 수 지정  \n",
    "# - 레이블 지정함  \n",
    "\n",
    "from pandas import cut \n",
    "\n",
    "binned_weight = cut(data['weight_kg'], 5, labels=[\"A\",\"B\",\"C\",\"D\",\"E\"])  # bin수 지정 \n",
    "binned_weight.value_counts()"
   ]
  },
  {
   "cell_type": "code",
   "execution_count": 68,
   "id": "7f446129-13f7-423f-86ba-efb24475ec37",
   "metadata": {},
   "outputs": [
    {
     "name": "stdout",
     "output_type": "stream",
     "text": [
      "90\n",
      "0    E\n",
      "1    C\n",
      "2    C\n",
      "3    D\n",
      "4    C\n",
      "Name: weight_kg, dtype: category\n",
      "Categories (5, object): ['A' < 'B' < 'C' < 'D' < 'E']\n"
     ]
    }
   ],
   "source": [
    "print(len(binned_weight))\n",
    "print(binned_weight.head(5))"
   ]
  },
  {
   "cell_type": "code",
   "execution_count": 69,
   "id": "736f7804-4d90-45ac-84e2-046a4a1768fa",
   "metadata": {},
   "outputs": [
    {
     "data": {
      "text/plain": [
       "(60.0, 70.0]     32\n",
       "(50.0, 60.0]     19\n",
       "(70.0, 80.0]     17\n",
       "(80.0, 90.0]     12\n",
       "(0.0, 50.0]       4\n",
       "(90.0, 100.0]     3\n",
       "(100.0, inf]      3\n",
       "Name: weight_kg, dtype: int64"
      ]
     },
     "execution_count": 69,
     "metadata": {},
     "output_type": "execute_result"
    }
   ],
   "source": [
    "# 판다스의 cut 함수 \n",
    "# - bin의 범위를 지정 \n",
    "# - 레이블 지정하지 않음  \n",
    "\n",
    "bin_edges = [0, 50, 60, 70, 80, 90, 100, float('inf')]\n",
    "# 0초과~50이하, 50초과~60이하, ..., 100초과 \n",
    "\n",
    "binned_weight2 = cut(data['weight_kg'], bin_edges)  \n",
    "binned_weight2.value_counts()"
   ]
  },
  {
   "cell_type": "code",
   "execution_count": 70,
   "id": "a214b54f-cae2-4050-abcf-a869629472f7",
   "metadata": {},
   "outputs": [
    {
     "name": "stdout",
     "output_type": "stream",
     "text": [
      "90\n",
      "0    (90.0, 100.0]\n",
      "1     (70.0, 80.0]\n",
      "2     (60.0, 70.0]\n",
      "3     (80.0, 90.0]\n",
      "4     (70.0, 80.0]\n",
      "Name: weight_kg, dtype: category\n",
      "Categories (7, interval[float64, right]): [(0.0, 50.0] < (50.0, 60.0] < (60.0, 70.0] < (70.0, 80.0] < (80.0, 90.0] < (90.0, 100.0] < (100.0, inf]]\n"
     ]
    }
   ],
   "source": [
    "print(len(binned_weight2))\n",
    "print(binned_weight2.head(5))"
   ]
  },
  {
   "cell_type": "code",
   "execution_count": 71,
   "id": "e8f557bf-10c3-4c30-bac7-7636496cbaf9",
   "metadata": {},
   "outputs": [
    {
     "data": {
      "text/plain": [
       "3    32\n",
       "2    19\n",
       "4    17\n",
       "5    12\n",
       "1     4\n",
       "6     3\n",
       "7     3\n",
       "Name: weight_kg, dtype: int64"
      ]
     },
     "execution_count": 71,
     "metadata": {},
     "output_type": "execute_result"
    }
   ],
   "source": [
    "# 판다스의 cut 함수 \n",
    "# - bin의 범위를 지정 \n",
    "# - 레이블 지정함 \n",
    "\n",
    "bin_edges = [0, 50, 60, 70, 80, 90, 100, float('inf')]\n",
    "# 0초과~50이하, 50초과~60이하, ..., 100초과 \n",
    "\n",
    "binned_weight2 = cut(data['weight_kg'], bin_edges, labels=[1,2,3,4,5,6,7])  \n",
    "binned_weight2.value_counts()"
   ]
  },
  {
   "cell_type": "code",
   "execution_count": 72,
   "id": "9540e8cc-fc97-4f9b-aeb6-c3f76f4dc990",
   "metadata": {},
   "outputs": [
    {
     "name": "stdout",
     "output_type": "stream",
     "text": [
      "90\n",
      "0    6\n",
      "1    4\n",
      "2    3\n",
      "3    5\n",
      "4    4\n",
      "Name: weight_kg, dtype: category\n",
      "Categories (7, int64): [1 < 2 < 3 < 4 < 5 < 6 < 7]\n"
     ]
    }
   ],
   "source": [
    "print(len(binned_weight2))\n",
    "print(binned_weight2.head(5))"
   ]
  },
  {
   "cell_type": "code",
   "execution_count": 78,
   "id": "756d3552-5ef1-4925-9cfa-27ec924c26df",
   "metadata": {},
   "outputs": [
    {
     "name": "stdout",
     "output_type": "stream",
     "text": [
      "(90, 5)\n",
      "[[0. 0. 0. 0. 1.]\n",
      " [0. 0. 1. 0. 0.]\n",
      " [0. 0. 1. 0. 0.]\n",
      " [0. 0. 0. 1. 0.]\n",
      " [0. 0. 1. 0. 0.]]\n"
     ]
    }
   ],
   "source": [
    "# 사이킥런의 KBinsDiscretizer 함수 \n",
    "# - KBinsDiscretizer 함수를 이용하면, 지정한 bins 수대로 데이터를 분할한 후 각 구간 별로 원핫인코딩을 적용할 수 있음\n",
    "\n",
    "from sklearn.preprocessing import KBinsDiscretizer \n",
    "\n",
    "kb = KBinsDiscretizer(n_bins=5, strategy='uniform')\n",
    "kb_weight = kb.fit_transform(np.array(data['weight_kg']).reshape(-1,1))\n",
    "kb_weight = kb_weight.toarray()\n",
    "print(kb_weight.shape)   # 형상 출력 \n",
    "print(kb_weight[:5,:])   # 5행 출력 "
   ]
  },
  {
   "cell_type": "code",
   "execution_count": 76,
   "id": "9a663abe-ecbf-4555-8c89-f05e806af6f7",
   "metadata": {},
   "outputs": [
    {
     "data": {
      "text/plain": [
       "0    98\n",
       "1    77\n",
       "2    70\n",
       "3    90\n",
       "4    71\n",
       "Name: weight_kg, dtype: int64"
      ]
     },
     "execution_count": 76,
     "metadata": {},
     "output_type": "execute_result"
    }
   ],
   "source": [
    "data['weight_kg'].head(5)"
   ]
  },
  {
   "cell_type": "code",
   "execution_count": null,
   "id": "0aef5520-5000-413c-96cf-2a44a4976b0a",
   "metadata": {},
   "outputs": [],
   "source": []
  },
  {
   "cell_type": "code",
   "execution_count": null,
   "id": "cf35086a-dd39-4755-8f09-fcbff3340809",
   "metadata": {},
   "outputs": [],
   "source": []
  }
 ],
 "metadata": {
  "kernelspec": {
   "display_name": "CGData",
   "language": "python",
   "name": "cgdata"
  },
  "language_info": {
   "codemirror_mode": {
    "name": "ipython",
    "version": 3
   },
   "file_extension": ".py",
   "mimetype": "text/x-python",
   "name": "python",
   "nbconvert_exporter": "python",
   "pygments_lexer": "ipython3",
   "version": "3.12.7"
  }
 },
 "nbformat": 4,
 "nbformat_minor": 5
}
